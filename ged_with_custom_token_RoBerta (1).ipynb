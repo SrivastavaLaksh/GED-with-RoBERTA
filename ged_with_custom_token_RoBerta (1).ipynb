{
  "nbformat": 4,
  "nbformat_minor": 0,
  "metadata": {
    "colab": {
      "provenance": []
    },
    "kernelspec": {
      "name": "python3",
      "display_name": "Python 3"
    },
    "language_info": {
      "name": "python"
    },
    "accelerator": "GPU",
    "gpuClass": "standard",
    "widgets": {
      "application/vnd.jupyter.widget-state+json": {
        "8a3eab1e800f4074be88f402baa3bd25": {
          "model_module": "@jupyter-widgets/controls",
          "model_name": "HBoxModel",
          "model_module_version": "1.5.0",
          "state": {
            "_dom_classes": [],
            "_model_module": "@jupyter-widgets/controls",
            "_model_module_version": "1.5.0",
            "_model_name": "HBoxModel",
            "_view_count": null,
            "_view_module": "@jupyter-widgets/controls",
            "_view_module_version": "1.5.0",
            "_view_name": "HBoxView",
            "box_style": "",
            "children": [
              "IPY_MODEL_ae328ff310ed4471a10054c95e5c7e03",
              "IPY_MODEL_7515ed461cb9418ba5ae6dc2251722d8",
              "IPY_MODEL_73696fcb7825426abf6b2a8c431481a6"
            ],
            "layout": "IPY_MODEL_1e00f6729e9a45638a419c763746cce0"
          }
        },
        "ae328ff310ed4471a10054c95e5c7e03": {
          "model_module": "@jupyter-widgets/controls",
          "model_name": "HTMLModel",
          "model_module_version": "1.5.0",
          "state": {
            "_dom_classes": [],
            "_model_module": "@jupyter-widgets/controls",
            "_model_module_version": "1.5.0",
            "_model_name": "HTMLModel",
            "_view_count": null,
            "_view_module": "@jupyter-widgets/controls",
            "_view_module_version": "1.5.0",
            "_view_name": "HTMLView",
            "description": "",
            "description_tooltip": null,
            "layout": "IPY_MODEL_533ef3c6109146a3a3d8fd066b5b3ec6",
            "placeholder": "​",
            "style": "IPY_MODEL_b5e56f3c9a5f4aafa43a0d27065eec0b",
            "value": "Downloading (…)olve/main/vocab.json: 100%"
          }
        },
        "7515ed461cb9418ba5ae6dc2251722d8": {
          "model_module": "@jupyter-widgets/controls",
          "model_name": "FloatProgressModel",
          "model_module_version": "1.5.0",
          "state": {
            "_dom_classes": [],
            "_model_module": "@jupyter-widgets/controls",
            "_model_module_version": "1.5.0",
            "_model_name": "FloatProgressModel",
            "_view_count": null,
            "_view_module": "@jupyter-widgets/controls",
            "_view_module_version": "1.5.0",
            "_view_name": "ProgressView",
            "bar_style": "success",
            "description": "",
            "description_tooltip": null,
            "layout": "IPY_MODEL_2d625ecd9d9c40d0ba0382f3b3457405",
            "max": 798293,
            "min": 0,
            "orientation": "horizontal",
            "style": "IPY_MODEL_fc1be955d38a4e7bbd39d1376e0be208",
            "value": 798293
          }
        },
        "73696fcb7825426abf6b2a8c431481a6": {
          "model_module": "@jupyter-widgets/controls",
          "model_name": "HTMLModel",
          "model_module_version": "1.5.0",
          "state": {
            "_dom_classes": [],
            "_model_module": "@jupyter-widgets/controls",
            "_model_module_version": "1.5.0",
            "_model_name": "HTMLModel",
            "_view_count": null,
            "_view_module": "@jupyter-widgets/controls",
            "_view_module_version": "1.5.0",
            "_view_name": "HTMLView",
            "description": "",
            "description_tooltip": null,
            "layout": "IPY_MODEL_8bcff5723bd846c282b48be2ff97127a",
            "placeholder": "​",
            "style": "IPY_MODEL_fb9323616a97432a962df3cd7bd69e74",
            "value": " 798k/798k [00:00&lt;00:00, 1.90MB/s]"
          }
        },
        "1e00f6729e9a45638a419c763746cce0": {
          "model_module": "@jupyter-widgets/base",
          "model_name": "LayoutModel",
          "model_module_version": "1.2.0",
          "state": {
            "_model_module": "@jupyter-widgets/base",
            "_model_module_version": "1.2.0",
            "_model_name": "LayoutModel",
            "_view_count": null,
            "_view_module": "@jupyter-widgets/base",
            "_view_module_version": "1.2.0",
            "_view_name": "LayoutView",
            "align_content": null,
            "align_items": null,
            "align_self": null,
            "border": null,
            "bottom": null,
            "display": null,
            "flex": null,
            "flex_flow": null,
            "grid_area": null,
            "grid_auto_columns": null,
            "grid_auto_flow": null,
            "grid_auto_rows": null,
            "grid_column": null,
            "grid_gap": null,
            "grid_row": null,
            "grid_template_areas": null,
            "grid_template_columns": null,
            "grid_template_rows": null,
            "height": null,
            "justify_content": null,
            "justify_items": null,
            "left": null,
            "margin": null,
            "max_height": null,
            "max_width": null,
            "min_height": null,
            "min_width": null,
            "object_fit": null,
            "object_position": null,
            "order": null,
            "overflow": null,
            "overflow_x": null,
            "overflow_y": null,
            "padding": null,
            "right": null,
            "top": null,
            "visibility": null,
            "width": null
          }
        },
        "533ef3c6109146a3a3d8fd066b5b3ec6": {
          "model_module": "@jupyter-widgets/base",
          "model_name": "LayoutModel",
          "model_module_version": "1.2.0",
          "state": {
            "_model_module": "@jupyter-widgets/base",
            "_model_module_version": "1.2.0",
            "_model_name": "LayoutModel",
            "_view_count": null,
            "_view_module": "@jupyter-widgets/base",
            "_view_module_version": "1.2.0",
            "_view_name": "LayoutView",
            "align_content": null,
            "align_items": null,
            "align_self": null,
            "border": null,
            "bottom": null,
            "display": null,
            "flex": null,
            "flex_flow": null,
            "grid_area": null,
            "grid_auto_columns": null,
            "grid_auto_flow": null,
            "grid_auto_rows": null,
            "grid_column": null,
            "grid_gap": null,
            "grid_row": null,
            "grid_template_areas": null,
            "grid_template_columns": null,
            "grid_template_rows": null,
            "height": null,
            "justify_content": null,
            "justify_items": null,
            "left": null,
            "margin": null,
            "max_height": null,
            "max_width": null,
            "min_height": null,
            "min_width": null,
            "object_fit": null,
            "object_position": null,
            "order": null,
            "overflow": null,
            "overflow_x": null,
            "overflow_y": null,
            "padding": null,
            "right": null,
            "top": null,
            "visibility": null,
            "width": null
          }
        },
        "b5e56f3c9a5f4aafa43a0d27065eec0b": {
          "model_module": "@jupyter-widgets/controls",
          "model_name": "DescriptionStyleModel",
          "model_module_version": "1.5.0",
          "state": {
            "_model_module": "@jupyter-widgets/controls",
            "_model_module_version": "1.5.0",
            "_model_name": "DescriptionStyleModel",
            "_view_count": null,
            "_view_module": "@jupyter-widgets/base",
            "_view_module_version": "1.2.0",
            "_view_name": "StyleView",
            "description_width": ""
          }
        },
        "2d625ecd9d9c40d0ba0382f3b3457405": {
          "model_module": "@jupyter-widgets/base",
          "model_name": "LayoutModel",
          "model_module_version": "1.2.0",
          "state": {
            "_model_module": "@jupyter-widgets/base",
            "_model_module_version": "1.2.0",
            "_model_name": "LayoutModel",
            "_view_count": null,
            "_view_module": "@jupyter-widgets/base",
            "_view_module_version": "1.2.0",
            "_view_name": "LayoutView",
            "align_content": null,
            "align_items": null,
            "align_self": null,
            "border": null,
            "bottom": null,
            "display": null,
            "flex": null,
            "flex_flow": null,
            "grid_area": null,
            "grid_auto_columns": null,
            "grid_auto_flow": null,
            "grid_auto_rows": null,
            "grid_column": null,
            "grid_gap": null,
            "grid_row": null,
            "grid_template_areas": null,
            "grid_template_columns": null,
            "grid_template_rows": null,
            "height": null,
            "justify_content": null,
            "justify_items": null,
            "left": null,
            "margin": null,
            "max_height": null,
            "max_width": null,
            "min_height": null,
            "min_width": null,
            "object_fit": null,
            "object_position": null,
            "order": null,
            "overflow": null,
            "overflow_x": null,
            "overflow_y": null,
            "padding": null,
            "right": null,
            "top": null,
            "visibility": null,
            "width": null
          }
        },
        "fc1be955d38a4e7bbd39d1376e0be208": {
          "model_module": "@jupyter-widgets/controls",
          "model_name": "ProgressStyleModel",
          "model_module_version": "1.5.0",
          "state": {
            "_model_module": "@jupyter-widgets/controls",
            "_model_module_version": "1.5.0",
            "_model_name": "ProgressStyleModel",
            "_view_count": null,
            "_view_module": "@jupyter-widgets/base",
            "_view_module_version": "1.2.0",
            "_view_name": "StyleView",
            "bar_color": null,
            "description_width": ""
          }
        },
        "8bcff5723bd846c282b48be2ff97127a": {
          "model_module": "@jupyter-widgets/base",
          "model_name": "LayoutModel",
          "model_module_version": "1.2.0",
          "state": {
            "_model_module": "@jupyter-widgets/base",
            "_model_module_version": "1.2.0",
            "_model_name": "LayoutModel",
            "_view_count": null,
            "_view_module": "@jupyter-widgets/base",
            "_view_module_version": "1.2.0",
            "_view_name": "LayoutView",
            "align_content": null,
            "align_items": null,
            "align_self": null,
            "border": null,
            "bottom": null,
            "display": null,
            "flex": null,
            "flex_flow": null,
            "grid_area": null,
            "grid_auto_columns": null,
            "grid_auto_flow": null,
            "grid_auto_rows": null,
            "grid_column": null,
            "grid_gap": null,
            "grid_row": null,
            "grid_template_areas": null,
            "grid_template_columns": null,
            "grid_template_rows": null,
            "height": null,
            "justify_content": null,
            "justify_items": null,
            "left": null,
            "margin": null,
            "max_height": null,
            "max_width": null,
            "min_height": null,
            "min_width": null,
            "object_fit": null,
            "object_position": null,
            "order": null,
            "overflow": null,
            "overflow_x": null,
            "overflow_y": null,
            "padding": null,
            "right": null,
            "top": null,
            "visibility": null,
            "width": null
          }
        },
        "fb9323616a97432a962df3cd7bd69e74": {
          "model_module": "@jupyter-widgets/controls",
          "model_name": "DescriptionStyleModel",
          "model_module_version": "1.5.0",
          "state": {
            "_model_module": "@jupyter-widgets/controls",
            "_model_module_version": "1.5.0",
            "_model_name": "DescriptionStyleModel",
            "_view_count": null,
            "_view_module": "@jupyter-widgets/base",
            "_view_module_version": "1.2.0",
            "_view_name": "StyleView",
            "description_width": ""
          }
        },
        "f4653aa7fcf14b9e9c9123ada71f9491": {
          "model_module": "@jupyter-widgets/controls",
          "model_name": "HBoxModel",
          "model_module_version": "1.5.0",
          "state": {
            "_dom_classes": [],
            "_model_module": "@jupyter-widgets/controls",
            "_model_module_version": "1.5.0",
            "_model_name": "HBoxModel",
            "_view_count": null,
            "_view_module": "@jupyter-widgets/controls",
            "_view_module_version": "1.5.0",
            "_view_name": "HBoxView",
            "box_style": "",
            "children": [
              "IPY_MODEL_c73c58410c404af689a6f616eb80e8aa",
              "IPY_MODEL_814993dcb2b644ab99c789036ff5e114",
              "IPY_MODEL_93292c70b769473fab626c445b0c0424"
            ],
            "layout": "IPY_MODEL_4e9ba6dcdc3742f6ab7bd87fe1ffa22f"
          }
        },
        "c73c58410c404af689a6f616eb80e8aa": {
          "model_module": "@jupyter-widgets/controls",
          "model_name": "HTMLModel",
          "model_module_version": "1.5.0",
          "state": {
            "_dom_classes": [],
            "_model_module": "@jupyter-widgets/controls",
            "_model_module_version": "1.5.0",
            "_model_name": "HTMLModel",
            "_view_count": null,
            "_view_module": "@jupyter-widgets/controls",
            "_view_module_version": "1.5.0",
            "_view_name": "HTMLView",
            "description": "",
            "description_tooltip": null,
            "layout": "IPY_MODEL_073e54d891bd4ac8b4935ca047b2743e",
            "placeholder": "​",
            "style": "IPY_MODEL_75b49cce6b9a4181a21a7713de6c267a",
            "value": "Downloading (…)olve/main/merges.txt: 100%"
          }
        },
        "814993dcb2b644ab99c789036ff5e114": {
          "model_module": "@jupyter-widgets/controls",
          "model_name": "FloatProgressModel",
          "model_module_version": "1.5.0",
          "state": {
            "_dom_classes": [],
            "_model_module": "@jupyter-widgets/controls",
            "_model_module_version": "1.5.0",
            "_model_name": "FloatProgressModel",
            "_view_count": null,
            "_view_module": "@jupyter-widgets/controls",
            "_view_module_version": "1.5.0",
            "_view_name": "ProgressView",
            "bar_style": "success",
            "description": "",
            "description_tooltip": null,
            "layout": "IPY_MODEL_812da325bb8a4643997a9ea25234463a",
            "max": 456356,
            "min": 0,
            "orientation": "horizontal",
            "style": "IPY_MODEL_8a9de50e2c1b4ee79c8fadd72bbe9c73",
            "value": 456356
          }
        },
        "93292c70b769473fab626c445b0c0424": {
          "model_module": "@jupyter-widgets/controls",
          "model_name": "HTMLModel",
          "model_module_version": "1.5.0",
          "state": {
            "_dom_classes": [],
            "_model_module": "@jupyter-widgets/controls",
            "_model_module_version": "1.5.0",
            "_model_name": "HTMLModel",
            "_view_count": null,
            "_view_module": "@jupyter-widgets/controls",
            "_view_module_version": "1.5.0",
            "_view_name": "HTMLView",
            "description": "",
            "description_tooltip": null,
            "layout": "IPY_MODEL_6200d8885481453daee89d5d4cc6d657",
            "placeholder": "​",
            "style": "IPY_MODEL_382884277e1e419586ce7501944984ea",
            "value": " 456k/456k [00:00&lt;00:00, 723kB/s]"
          }
        },
        "4e9ba6dcdc3742f6ab7bd87fe1ffa22f": {
          "model_module": "@jupyter-widgets/base",
          "model_name": "LayoutModel",
          "model_module_version": "1.2.0",
          "state": {
            "_model_module": "@jupyter-widgets/base",
            "_model_module_version": "1.2.0",
            "_model_name": "LayoutModel",
            "_view_count": null,
            "_view_module": "@jupyter-widgets/base",
            "_view_module_version": "1.2.0",
            "_view_name": "LayoutView",
            "align_content": null,
            "align_items": null,
            "align_self": null,
            "border": null,
            "bottom": null,
            "display": null,
            "flex": null,
            "flex_flow": null,
            "grid_area": null,
            "grid_auto_columns": null,
            "grid_auto_flow": null,
            "grid_auto_rows": null,
            "grid_column": null,
            "grid_gap": null,
            "grid_row": null,
            "grid_template_areas": null,
            "grid_template_columns": null,
            "grid_template_rows": null,
            "height": null,
            "justify_content": null,
            "justify_items": null,
            "left": null,
            "margin": null,
            "max_height": null,
            "max_width": null,
            "min_height": null,
            "min_width": null,
            "object_fit": null,
            "object_position": null,
            "order": null,
            "overflow": null,
            "overflow_x": null,
            "overflow_y": null,
            "padding": null,
            "right": null,
            "top": null,
            "visibility": null,
            "width": null
          }
        },
        "073e54d891bd4ac8b4935ca047b2743e": {
          "model_module": "@jupyter-widgets/base",
          "model_name": "LayoutModel",
          "model_module_version": "1.2.0",
          "state": {
            "_model_module": "@jupyter-widgets/base",
            "_model_module_version": "1.2.0",
            "_model_name": "LayoutModel",
            "_view_count": null,
            "_view_module": "@jupyter-widgets/base",
            "_view_module_version": "1.2.0",
            "_view_name": "LayoutView",
            "align_content": null,
            "align_items": null,
            "align_self": null,
            "border": null,
            "bottom": null,
            "display": null,
            "flex": null,
            "flex_flow": null,
            "grid_area": null,
            "grid_auto_columns": null,
            "grid_auto_flow": null,
            "grid_auto_rows": null,
            "grid_column": null,
            "grid_gap": null,
            "grid_row": null,
            "grid_template_areas": null,
            "grid_template_columns": null,
            "grid_template_rows": null,
            "height": null,
            "justify_content": null,
            "justify_items": null,
            "left": null,
            "margin": null,
            "max_height": null,
            "max_width": null,
            "min_height": null,
            "min_width": null,
            "object_fit": null,
            "object_position": null,
            "order": null,
            "overflow": null,
            "overflow_x": null,
            "overflow_y": null,
            "padding": null,
            "right": null,
            "top": null,
            "visibility": null,
            "width": null
          }
        },
        "75b49cce6b9a4181a21a7713de6c267a": {
          "model_module": "@jupyter-widgets/controls",
          "model_name": "DescriptionStyleModel",
          "model_module_version": "1.5.0",
          "state": {
            "_model_module": "@jupyter-widgets/controls",
            "_model_module_version": "1.5.0",
            "_model_name": "DescriptionStyleModel",
            "_view_count": null,
            "_view_module": "@jupyter-widgets/base",
            "_view_module_version": "1.2.0",
            "_view_name": "StyleView",
            "description_width": ""
          }
        },
        "812da325bb8a4643997a9ea25234463a": {
          "model_module": "@jupyter-widgets/base",
          "model_name": "LayoutModel",
          "model_module_version": "1.2.0",
          "state": {
            "_model_module": "@jupyter-widgets/base",
            "_model_module_version": "1.2.0",
            "_model_name": "LayoutModel",
            "_view_count": null,
            "_view_module": "@jupyter-widgets/base",
            "_view_module_version": "1.2.0",
            "_view_name": "LayoutView",
            "align_content": null,
            "align_items": null,
            "align_self": null,
            "border": null,
            "bottom": null,
            "display": null,
            "flex": null,
            "flex_flow": null,
            "grid_area": null,
            "grid_auto_columns": null,
            "grid_auto_flow": null,
            "grid_auto_rows": null,
            "grid_column": null,
            "grid_gap": null,
            "grid_row": null,
            "grid_template_areas": null,
            "grid_template_columns": null,
            "grid_template_rows": null,
            "height": null,
            "justify_content": null,
            "justify_items": null,
            "left": null,
            "margin": null,
            "max_height": null,
            "max_width": null,
            "min_height": null,
            "min_width": null,
            "object_fit": null,
            "object_position": null,
            "order": null,
            "overflow": null,
            "overflow_x": null,
            "overflow_y": null,
            "padding": null,
            "right": null,
            "top": null,
            "visibility": null,
            "width": null
          }
        },
        "8a9de50e2c1b4ee79c8fadd72bbe9c73": {
          "model_module": "@jupyter-widgets/controls",
          "model_name": "ProgressStyleModel",
          "model_module_version": "1.5.0",
          "state": {
            "_model_module": "@jupyter-widgets/controls",
            "_model_module_version": "1.5.0",
            "_model_name": "ProgressStyleModel",
            "_view_count": null,
            "_view_module": "@jupyter-widgets/base",
            "_view_module_version": "1.2.0",
            "_view_name": "StyleView",
            "bar_color": null,
            "description_width": ""
          }
        },
        "6200d8885481453daee89d5d4cc6d657": {
          "model_module": "@jupyter-widgets/base",
          "model_name": "LayoutModel",
          "model_module_version": "1.2.0",
          "state": {
            "_model_module": "@jupyter-widgets/base",
            "_model_module_version": "1.2.0",
            "_model_name": "LayoutModel",
            "_view_count": null,
            "_view_module": "@jupyter-widgets/base",
            "_view_module_version": "1.2.0",
            "_view_name": "LayoutView",
            "align_content": null,
            "align_items": null,
            "align_self": null,
            "border": null,
            "bottom": null,
            "display": null,
            "flex": null,
            "flex_flow": null,
            "grid_area": null,
            "grid_auto_columns": null,
            "grid_auto_flow": null,
            "grid_auto_rows": null,
            "grid_column": null,
            "grid_gap": null,
            "grid_row": null,
            "grid_template_areas": null,
            "grid_template_columns": null,
            "grid_template_rows": null,
            "height": null,
            "justify_content": null,
            "justify_items": null,
            "left": null,
            "margin": null,
            "max_height": null,
            "max_width": null,
            "min_height": null,
            "min_width": null,
            "object_fit": null,
            "object_position": null,
            "order": null,
            "overflow": null,
            "overflow_x": null,
            "overflow_y": null,
            "padding": null,
            "right": null,
            "top": null,
            "visibility": null,
            "width": null
          }
        },
        "382884277e1e419586ce7501944984ea": {
          "model_module": "@jupyter-widgets/controls",
          "model_name": "DescriptionStyleModel",
          "model_module_version": "1.5.0",
          "state": {
            "_model_module": "@jupyter-widgets/controls",
            "_model_module_version": "1.5.0",
            "_model_name": "DescriptionStyleModel",
            "_view_count": null,
            "_view_module": "@jupyter-widgets/base",
            "_view_module_version": "1.2.0",
            "_view_name": "StyleView",
            "description_width": ""
          }
        },
        "cd5ad40f166e4b3f99b335442600ccf2": {
          "model_module": "@jupyter-widgets/controls",
          "model_name": "HBoxModel",
          "model_module_version": "1.5.0",
          "state": {
            "_dom_classes": [],
            "_model_module": "@jupyter-widgets/controls",
            "_model_module_version": "1.5.0",
            "_model_name": "HBoxModel",
            "_view_count": null,
            "_view_module": "@jupyter-widgets/controls",
            "_view_module_version": "1.5.0",
            "_view_name": "HBoxView",
            "box_style": "",
            "children": [
              "IPY_MODEL_19da093a82ec444c8d84266e580adc03",
              "IPY_MODEL_d1be085bd0dc4cdcb02797ce1e0ed24c",
              "IPY_MODEL_978e1fcc5a814865ac78de5e123887dc"
            ],
            "layout": "IPY_MODEL_14a991e24de743f881b6259c2d6e7112"
          }
        },
        "19da093a82ec444c8d84266e580adc03": {
          "model_module": "@jupyter-widgets/controls",
          "model_name": "HTMLModel",
          "model_module_version": "1.5.0",
          "state": {
            "_dom_classes": [],
            "_model_module": "@jupyter-widgets/controls",
            "_model_module_version": "1.5.0",
            "_model_name": "HTMLModel",
            "_view_count": null,
            "_view_module": "@jupyter-widgets/controls",
            "_view_module_version": "1.5.0",
            "_view_name": "HTMLView",
            "description": "",
            "description_tooltip": null,
            "layout": "IPY_MODEL_8b48e2f27c72493aa94140f1d724fcd2",
            "placeholder": "​",
            "style": "IPY_MODEL_9d538e9c8af149a5b96e3f27bd49f7f8",
            "value": "Downloading (…)cial_tokens_map.json: 100%"
          }
        },
        "d1be085bd0dc4cdcb02797ce1e0ed24c": {
          "model_module": "@jupyter-widgets/controls",
          "model_name": "FloatProgressModel",
          "model_module_version": "1.5.0",
          "state": {
            "_dom_classes": [],
            "_model_module": "@jupyter-widgets/controls",
            "_model_module_version": "1.5.0",
            "_model_name": "FloatProgressModel",
            "_view_count": null,
            "_view_module": "@jupyter-widgets/controls",
            "_view_module_version": "1.5.0",
            "_view_name": "ProgressView",
            "bar_style": "success",
            "description": "",
            "description_tooltip": null,
            "layout": "IPY_MODEL_afbfc44ee39543e28de40b05bf9d4529",
            "max": 280,
            "min": 0,
            "orientation": "horizontal",
            "style": "IPY_MODEL_2f3092ec02474ac29f6839303ed8c958",
            "value": 280
          }
        },
        "978e1fcc5a814865ac78de5e123887dc": {
          "model_module": "@jupyter-widgets/controls",
          "model_name": "HTMLModel",
          "model_module_version": "1.5.0",
          "state": {
            "_dom_classes": [],
            "_model_module": "@jupyter-widgets/controls",
            "_model_module_version": "1.5.0",
            "_model_name": "HTMLModel",
            "_view_count": null,
            "_view_module": "@jupyter-widgets/controls",
            "_view_module_version": "1.5.0",
            "_view_name": "HTMLView",
            "description": "",
            "description_tooltip": null,
            "layout": "IPY_MODEL_35b8c32d3e804d118baf2a621963bb10",
            "placeholder": "​",
            "style": "IPY_MODEL_5cde661d8d6a47f3a0eb9c28a2ed8719",
            "value": " 280/280 [00:00&lt;00:00, 9.27kB/s]"
          }
        },
        "14a991e24de743f881b6259c2d6e7112": {
          "model_module": "@jupyter-widgets/base",
          "model_name": "LayoutModel",
          "model_module_version": "1.2.0",
          "state": {
            "_model_module": "@jupyter-widgets/base",
            "_model_module_version": "1.2.0",
            "_model_name": "LayoutModel",
            "_view_count": null,
            "_view_module": "@jupyter-widgets/base",
            "_view_module_version": "1.2.0",
            "_view_name": "LayoutView",
            "align_content": null,
            "align_items": null,
            "align_self": null,
            "border": null,
            "bottom": null,
            "display": null,
            "flex": null,
            "flex_flow": null,
            "grid_area": null,
            "grid_auto_columns": null,
            "grid_auto_flow": null,
            "grid_auto_rows": null,
            "grid_column": null,
            "grid_gap": null,
            "grid_row": null,
            "grid_template_areas": null,
            "grid_template_columns": null,
            "grid_template_rows": null,
            "height": null,
            "justify_content": null,
            "justify_items": null,
            "left": null,
            "margin": null,
            "max_height": null,
            "max_width": null,
            "min_height": null,
            "min_width": null,
            "object_fit": null,
            "object_position": null,
            "order": null,
            "overflow": null,
            "overflow_x": null,
            "overflow_y": null,
            "padding": null,
            "right": null,
            "top": null,
            "visibility": null,
            "width": null
          }
        },
        "8b48e2f27c72493aa94140f1d724fcd2": {
          "model_module": "@jupyter-widgets/base",
          "model_name": "LayoutModel",
          "model_module_version": "1.2.0",
          "state": {
            "_model_module": "@jupyter-widgets/base",
            "_model_module_version": "1.2.0",
            "_model_name": "LayoutModel",
            "_view_count": null,
            "_view_module": "@jupyter-widgets/base",
            "_view_module_version": "1.2.0",
            "_view_name": "LayoutView",
            "align_content": null,
            "align_items": null,
            "align_self": null,
            "border": null,
            "bottom": null,
            "display": null,
            "flex": null,
            "flex_flow": null,
            "grid_area": null,
            "grid_auto_columns": null,
            "grid_auto_flow": null,
            "grid_auto_rows": null,
            "grid_column": null,
            "grid_gap": null,
            "grid_row": null,
            "grid_template_areas": null,
            "grid_template_columns": null,
            "grid_template_rows": null,
            "height": null,
            "justify_content": null,
            "justify_items": null,
            "left": null,
            "margin": null,
            "max_height": null,
            "max_width": null,
            "min_height": null,
            "min_width": null,
            "object_fit": null,
            "object_position": null,
            "order": null,
            "overflow": null,
            "overflow_x": null,
            "overflow_y": null,
            "padding": null,
            "right": null,
            "top": null,
            "visibility": null,
            "width": null
          }
        },
        "9d538e9c8af149a5b96e3f27bd49f7f8": {
          "model_module": "@jupyter-widgets/controls",
          "model_name": "DescriptionStyleModel",
          "model_module_version": "1.5.0",
          "state": {
            "_model_module": "@jupyter-widgets/controls",
            "_model_module_version": "1.5.0",
            "_model_name": "DescriptionStyleModel",
            "_view_count": null,
            "_view_module": "@jupyter-widgets/base",
            "_view_module_version": "1.2.0",
            "_view_name": "StyleView",
            "description_width": ""
          }
        },
        "afbfc44ee39543e28de40b05bf9d4529": {
          "model_module": "@jupyter-widgets/base",
          "model_name": "LayoutModel",
          "model_module_version": "1.2.0",
          "state": {
            "_model_module": "@jupyter-widgets/base",
            "_model_module_version": "1.2.0",
            "_model_name": "LayoutModel",
            "_view_count": null,
            "_view_module": "@jupyter-widgets/base",
            "_view_module_version": "1.2.0",
            "_view_name": "LayoutView",
            "align_content": null,
            "align_items": null,
            "align_self": null,
            "border": null,
            "bottom": null,
            "display": null,
            "flex": null,
            "flex_flow": null,
            "grid_area": null,
            "grid_auto_columns": null,
            "grid_auto_flow": null,
            "grid_auto_rows": null,
            "grid_column": null,
            "grid_gap": null,
            "grid_row": null,
            "grid_template_areas": null,
            "grid_template_columns": null,
            "grid_template_rows": null,
            "height": null,
            "justify_content": null,
            "justify_items": null,
            "left": null,
            "margin": null,
            "max_height": null,
            "max_width": null,
            "min_height": null,
            "min_width": null,
            "object_fit": null,
            "object_position": null,
            "order": null,
            "overflow": null,
            "overflow_x": null,
            "overflow_y": null,
            "padding": null,
            "right": null,
            "top": null,
            "visibility": null,
            "width": null
          }
        },
        "2f3092ec02474ac29f6839303ed8c958": {
          "model_module": "@jupyter-widgets/controls",
          "model_name": "ProgressStyleModel",
          "model_module_version": "1.5.0",
          "state": {
            "_model_module": "@jupyter-widgets/controls",
            "_model_module_version": "1.5.0",
            "_model_name": "ProgressStyleModel",
            "_view_count": null,
            "_view_module": "@jupyter-widgets/base",
            "_view_module_version": "1.2.0",
            "_view_name": "StyleView",
            "bar_color": null,
            "description_width": ""
          }
        },
        "35b8c32d3e804d118baf2a621963bb10": {
          "model_module": "@jupyter-widgets/base",
          "model_name": "LayoutModel",
          "model_module_version": "1.2.0",
          "state": {
            "_model_module": "@jupyter-widgets/base",
            "_model_module_version": "1.2.0",
            "_model_name": "LayoutModel",
            "_view_count": null,
            "_view_module": "@jupyter-widgets/base",
            "_view_module_version": "1.2.0",
            "_view_name": "LayoutView",
            "align_content": null,
            "align_items": null,
            "align_self": null,
            "border": null,
            "bottom": null,
            "display": null,
            "flex": null,
            "flex_flow": null,
            "grid_area": null,
            "grid_auto_columns": null,
            "grid_auto_flow": null,
            "grid_auto_rows": null,
            "grid_column": null,
            "grid_gap": null,
            "grid_row": null,
            "grid_template_areas": null,
            "grid_template_columns": null,
            "grid_template_rows": null,
            "height": null,
            "justify_content": null,
            "justify_items": null,
            "left": null,
            "margin": null,
            "max_height": null,
            "max_width": null,
            "min_height": null,
            "min_width": null,
            "object_fit": null,
            "object_position": null,
            "order": null,
            "overflow": null,
            "overflow_x": null,
            "overflow_y": null,
            "padding": null,
            "right": null,
            "top": null,
            "visibility": null,
            "width": null
          }
        },
        "5cde661d8d6a47f3a0eb9c28a2ed8719": {
          "model_module": "@jupyter-widgets/controls",
          "model_name": "DescriptionStyleModel",
          "model_module_version": "1.5.0",
          "state": {
            "_model_module": "@jupyter-widgets/controls",
            "_model_module_version": "1.5.0",
            "_model_name": "DescriptionStyleModel",
            "_view_count": null,
            "_view_module": "@jupyter-widgets/base",
            "_view_module_version": "1.2.0",
            "_view_name": "StyleView",
            "description_width": ""
          }
        },
        "e2e36909df5f4bf4a255a1b16fe79bb7": {
          "model_module": "@jupyter-widgets/controls",
          "model_name": "HBoxModel",
          "model_module_version": "1.5.0",
          "state": {
            "_dom_classes": [],
            "_model_module": "@jupyter-widgets/controls",
            "_model_module_version": "1.5.0",
            "_model_name": "HBoxModel",
            "_view_count": null,
            "_view_module": "@jupyter-widgets/controls",
            "_view_module_version": "1.5.0",
            "_view_name": "HBoxView",
            "box_style": "",
            "children": [
              "IPY_MODEL_5badd27cec8a4ada86d7db02016bf15a",
              "IPY_MODEL_eae9c0b55b744a9cb4190833b33bc1d1",
              "IPY_MODEL_9702e88cab7a42c883411115e2a7e3dc"
            ],
            "layout": "IPY_MODEL_9754062fc8834af09f67a41fefe2dff0"
          }
        },
        "5badd27cec8a4ada86d7db02016bf15a": {
          "model_module": "@jupyter-widgets/controls",
          "model_name": "HTMLModel",
          "model_module_version": "1.5.0",
          "state": {
            "_dom_classes": [],
            "_model_module": "@jupyter-widgets/controls",
            "_model_module_version": "1.5.0",
            "_model_name": "HTMLModel",
            "_view_count": null,
            "_view_module": "@jupyter-widgets/controls",
            "_view_module_version": "1.5.0",
            "_view_name": "HTMLView",
            "description": "",
            "description_tooltip": null,
            "layout": "IPY_MODEL_98ee569b8c2944e687e29f9a8c1e8840",
            "placeholder": "​",
            "style": "IPY_MODEL_fd08fd66735d4ab89988e7a5b48c7d99",
            "value": "Downloading (…)okenizer_config.json: 100%"
          }
        },
        "eae9c0b55b744a9cb4190833b33bc1d1": {
          "model_module": "@jupyter-widgets/controls",
          "model_name": "FloatProgressModel",
          "model_module_version": "1.5.0",
          "state": {
            "_dom_classes": [],
            "_model_module": "@jupyter-widgets/controls",
            "_model_module_version": "1.5.0",
            "_model_name": "FloatProgressModel",
            "_view_count": null,
            "_view_module": "@jupyter-widgets/controls",
            "_view_module_version": "1.5.0",
            "_view_name": "ProgressView",
            "bar_style": "success",
            "description": "",
            "description_tooltip": null,
            "layout": "IPY_MODEL_c36f179c30134422bca3bc07dc30b234",
            "max": 413,
            "min": 0,
            "orientation": "horizontal",
            "style": "IPY_MODEL_24a16e3ac2e044aa858aff153621a520",
            "value": 413
          }
        },
        "9702e88cab7a42c883411115e2a7e3dc": {
          "model_module": "@jupyter-widgets/controls",
          "model_name": "HTMLModel",
          "model_module_version": "1.5.0",
          "state": {
            "_dom_classes": [],
            "_model_module": "@jupyter-widgets/controls",
            "_model_module_version": "1.5.0",
            "_model_name": "HTMLModel",
            "_view_count": null,
            "_view_module": "@jupyter-widgets/controls",
            "_view_module_version": "1.5.0",
            "_view_name": "HTMLView",
            "description": "",
            "description_tooltip": null,
            "layout": "IPY_MODEL_20f81c291bf44d6e862b9b9ff1d1f5c9",
            "placeholder": "​",
            "style": "IPY_MODEL_69816d51f3504f15921fbe7dede6519a",
            "value": " 413/413 [00:00&lt;00:00, 5.10kB/s]"
          }
        },
        "9754062fc8834af09f67a41fefe2dff0": {
          "model_module": "@jupyter-widgets/base",
          "model_name": "LayoutModel",
          "model_module_version": "1.2.0",
          "state": {
            "_model_module": "@jupyter-widgets/base",
            "_model_module_version": "1.2.0",
            "_model_name": "LayoutModel",
            "_view_count": null,
            "_view_module": "@jupyter-widgets/base",
            "_view_module_version": "1.2.0",
            "_view_name": "LayoutView",
            "align_content": null,
            "align_items": null,
            "align_self": null,
            "border": null,
            "bottom": null,
            "display": null,
            "flex": null,
            "flex_flow": null,
            "grid_area": null,
            "grid_auto_columns": null,
            "grid_auto_flow": null,
            "grid_auto_rows": null,
            "grid_column": null,
            "grid_gap": null,
            "grid_row": null,
            "grid_template_areas": null,
            "grid_template_columns": null,
            "grid_template_rows": null,
            "height": null,
            "justify_content": null,
            "justify_items": null,
            "left": null,
            "margin": null,
            "max_height": null,
            "max_width": null,
            "min_height": null,
            "min_width": null,
            "object_fit": null,
            "object_position": null,
            "order": null,
            "overflow": null,
            "overflow_x": null,
            "overflow_y": null,
            "padding": null,
            "right": null,
            "top": null,
            "visibility": null,
            "width": null
          }
        },
        "98ee569b8c2944e687e29f9a8c1e8840": {
          "model_module": "@jupyter-widgets/base",
          "model_name": "LayoutModel",
          "model_module_version": "1.2.0",
          "state": {
            "_model_module": "@jupyter-widgets/base",
            "_model_module_version": "1.2.0",
            "_model_name": "LayoutModel",
            "_view_count": null,
            "_view_module": "@jupyter-widgets/base",
            "_view_module_version": "1.2.0",
            "_view_name": "LayoutView",
            "align_content": null,
            "align_items": null,
            "align_self": null,
            "border": null,
            "bottom": null,
            "display": null,
            "flex": null,
            "flex_flow": null,
            "grid_area": null,
            "grid_auto_columns": null,
            "grid_auto_flow": null,
            "grid_auto_rows": null,
            "grid_column": null,
            "grid_gap": null,
            "grid_row": null,
            "grid_template_areas": null,
            "grid_template_columns": null,
            "grid_template_rows": null,
            "height": null,
            "justify_content": null,
            "justify_items": null,
            "left": null,
            "margin": null,
            "max_height": null,
            "max_width": null,
            "min_height": null,
            "min_width": null,
            "object_fit": null,
            "object_position": null,
            "order": null,
            "overflow": null,
            "overflow_x": null,
            "overflow_y": null,
            "padding": null,
            "right": null,
            "top": null,
            "visibility": null,
            "width": null
          }
        },
        "fd08fd66735d4ab89988e7a5b48c7d99": {
          "model_module": "@jupyter-widgets/controls",
          "model_name": "DescriptionStyleModel",
          "model_module_version": "1.5.0",
          "state": {
            "_model_module": "@jupyter-widgets/controls",
            "_model_module_version": "1.5.0",
            "_model_name": "DescriptionStyleModel",
            "_view_count": null,
            "_view_module": "@jupyter-widgets/base",
            "_view_module_version": "1.2.0",
            "_view_name": "StyleView",
            "description_width": ""
          }
        },
        "c36f179c30134422bca3bc07dc30b234": {
          "model_module": "@jupyter-widgets/base",
          "model_name": "LayoutModel",
          "model_module_version": "1.2.0",
          "state": {
            "_model_module": "@jupyter-widgets/base",
            "_model_module_version": "1.2.0",
            "_model_name": "LayoutModel",
            "_view_count": null,
            "_view_module": "@jupyter-widgets/base",
            "_view_module_version": "1.2.0",
            "_view_name": "LayoutView",
            "align_content": null,
            "align_items": null,
            "align_self": null,
            "border": null,
            "bottom": null,
            "display": null,
            "flex": null,
            "flex_flow": null,
            "grid_area": null,
            "grid_auto_columns": null,
            "grid_auto_flow": null,
            "grid_auto_rows": null,
            "grid_column": null,
            "grid_gap": null,
            "grid_row": null,
            "grid_template_areas": null,
            "grid_template_columns": null,
            "grid_template_rows": null,
            "height": null,
            "justify_content": null,
            "justify_items": null,
            "left": null,
            "margin": null,
            "max_height": null,
            "max_width": null,
            "min_height": null,
            "min_width": null,
            "object_fit": null,
            "object_position": null,
            "order": null,
            "overflow": null,
            "overflow_x": null,
            "overflow_y": null,
            "padding": null,
            "right": null,
            "top": null,
            "visibility": null,
            "width": null
          }
        },
        "24a16e3ac2e044aa858aff153621a520": {
          "model_module": "@jupyter-widgets/controls",
          "model_name": "ProgressStyleModel",
          "model_module_version": "1.5.0",
          "state": {
            "_model_module": "@jupyter-widgets/controls",
            "_model_module_version": "1.5.0",
            "_model_name": "ProgressStyleModel",
            "_view_count": null,
            "_view_module": "@jupyter-widgets/base",
            "_view_module_version": "1.2.0",
            "_view_name": "StyleView",
            "bar_color": null,
            "description_width": ""
          }
        },
        "20f81c291bf44d6e862b9b9ff1d1f5c9": {
          "model_module": "@jupyter-widgets/base",
          "model_name": "LayoutModel",
          "model_module_version": "1.2.0",
          "state": {
            "_model_module": "@jupyter-widgets/base",
            "_model_module_version": "1.2.0",
            "_model_name": "LayoutModel",
            "_view_count": null,
            "_view_module": "@jupyter-widgets/base",
            "_view_module_version": "1.2.0",
            "_view_name": "LayoutView",
            "align_content": null,
            "align_items": null,
            "align_self": null,
            "border": null,
            "bottom": null,
            "display": null,
            "flex": null,
            "flex_flow": null,
            "grid_area": null,
            "grid_auto_columns": null,
            "grid_auto_flow": null,
            "grid_auto_rows": null,
            "grid_column": null,
            "grid_gap": null,
            "grid_row": null,
            "grid_template_areas": null,
            "grid_template_columns": null,
            "grid_template_rows": null,
            "height": null,
            "justify_content": null,
            "justify_items": null,
            "left": null,
            "margin": null,
            "max_height": null,
            "max_width": null,
            "min_height": null,
            "min_width": null,
            "object_fit": null,
            "object_position": null,
            "order": null,
            "overflow": null,
            "overflow_x": null,
            "overflow_y": null,
            "padding": null,
            "right": null,
            "top": null,
            "visibility": null,
            "width": null
          }
        },
        "69816d51f3504f15921fbe7dede6519a": {
          "model_module": "@jupyter-widgets/controls",
          "model_name": "DescriptionStyleModel",
          "model_module_version": "1.5.0",
          "state": {
            "_model_module": "@jupyter-widgets/controls",
            "_model_module_version": "1.5.0",
            "_model_name": "DescriptionStyleModel",
            "_view_count": null,
            "_view_module": "@jupyter-widgets/base",
            "_view_module_version": "1.2.0",
            "_view_name": "StyleView",
            "description_width": ""
          }
        },
        "f38b21ff186c4eb2840e0bb3c4c1f50a": {
          "model_module": "@jupyter-widgets/controls",
          "model_name": "HBoxModel",
          "model_module_version": "1.5.0",
          "state": {
            "_dom_classes": [],
            "_model_module": "@jupyter-widgets/controls",
            "_model_module_version": "1.5.0",
            "_model_name": "HBoxModel",
            "_view_count": null,
            "_view_module": "@jupyter-widgets/controls",
            "_view_module_version": "1.5.0",
            "_view_name": "HBoxView",
            "box_style": "",
            "children": [
              "IPY_MODEL_b5629ba261af45798a1d7d808a19350e",
              "IPY_MODEL_a41f04a769e94df6adee90b39d7f6cf6",
              "IPY_MODEL_ab68edc5cb9a4017ae4f4edc4e50f7bf"
            ],
            "layout": "IPY_MODEL_4928ce0e09e54f46a613be912f5ff31c"
          }
        },
        "b5629ba261af45798a1d7d808a19350e": {
          "model_module": "@jupyter-widgets/controls",
          "model_name": "HTMLModel",
          "model_module_version": "1.5.0",
          "state": {
            "_dom_classes": [],
            "_model_module": "@jupyter-widgets/controls",
            "_model_module_version": "1.5.0",
            "_model_name": "HTMLModel",
            "_view_count": null,
            "_view_module": "@jupyter-widgets/controls",
            "_view_module_version": "1.5.0",
            "_view_name": "HTMLView",
            "description": "",
            "description_tooltip": null,
            "layout": "IPY_MODEL_96413980fc444aa98d6ff2dd129cbe23",
            "placeholder": "​",
            "style": "IPY_MODEL_996996955921445c8ad321216cc9d3e4",
            "value": "Downloading (…)lve/main/config.json: 100%"
          }
        },
        "a41f04a769e94df6adee90b39d7f6cf6": {
          "model_module": "@jupyter-widgets/controls",
          "model_name": "FloatProgressModel",
          "model_module_version": "1.5.0",
          "state": {
            "_dom_classes": [],
            "_model_module": "@jupyter-widgets/controls",
            "_model_module_version": "1.5.0",
            "_model_name": "FloatProgressModel",
            "_view_count": null,
            "_view_module": "@jupyter-widgets/controls",
            "_view_module_version": "1.5.0",
            "_view_name": "ProgressView",
            "bar_style": "success",
            "description": "",
            "description_tooltip": null,
            "layout": "IPY_MODEL_db29e12c812c478ba6e144ad3a9eb4d6",
            "max": 1059,
            "min": 0,
            "orientation": "horizontal",
            "style": "IPY_MODEL_25cee0ccd7674d259338e326f73ab27c",
            "value": 1059
          }
        },
        "ab68edc5cb9a4017ae4f4edc4e50f7bf": {
          "model_module": "@jupyter-widgets/controls",
          "model_name": "HTMLModel",
          "model_module_version": "1.5.0",
          "state": {
            "_dom_classes": [],
            "_model_module": "@jupyter-widgets/controls",
            "_model_module_version": "1.5.0",
            "_model_name": "HTMLModel",
            "_view_count": null,
            "_view_module": "@jupyter-widgets/controls",
            "_view_module_version": "1.5.0",
            "_view_name": "HTMLView",
            "description": "",
            "description_tooltip": null,
            "layout": "IPY_MODEL_9fe9b297f1e4469d9e02a42dac9e20ec",
            "placeholder": "​",
            "style": "IPY_MODEL_5cd6871b2c594168a16ec823cb50c4f6",
            "value": " 1.06k/1.06k [00:00&lt;00:00, 21.5kB/s]"
          }
        },
        "4928ce0e09e54f46a613be912f5ff31c": {
          "model_module": "@jupyter-widgets/base",
          "model_name": "LayoutModel",
          "model_module_version": "1.2.0",
          "state": {
            "_model_module": "@jupyter-widgets/base",
            "_model_module_version": "1.2.0",
            "_model_name": "LayoutModel",
            "_view_count": null,
            "_view_module": "@jupyter-widgets/base",
            "_view_module_version": "1.2.0",
            "_view_name": "LayoutView",
            "align_content": null,
            "align_items": null,
            "align_self": null,
            "border": null,
            "bottom": null,
            "display": null,
            "flex": null,
            "flex_flow": null,
            "grid_area": null,
            "grid_auto_columns": null,
            "grid_auto_flow": null,
            "grid_auto_rows": null,
            "grid_column": null,
            "grid_gap": null,
            "grid_row": null,
            "grid_template_areas": null,
            "grid_template_columns": null,
            "grid_template_rows": null,
            "height": null,
            "justify_content": null,
            "justify_items": null,
            "left": null,
            "margin": null,
            "max_height": null,
            "max_width": null,
            "min_height": null,
            "min_width": null,
            "object_fit": null,
            "object_position": null,
            "order": null,
            "overflow": null,
            "overflow_x": null,
            "overflow_y": null,
            "padding": null,
            "right": null,
            "top": null,
            "visibility": null,
            "width": null
          }
        },
        "96413980fc444aa98d6ff2dd129cbe23": {
          "model_module": "@jupyter-widgets/base",
          "model_name": "LayoutModel",
          "model_module_version": "1.2.0",
          "state": {
            "_model_module": "@jupyter-widgets/base",
            "_model_module_version": "1.2.0",
            "_model_name": "LayoutModel",
            "_view_count": null,
            "_view_module": "@jupyter-widgets/base",
            "_view_module_version": "1.2.0",
            "_view_name": "LayoutView",
            "align_content": null,
            "align_items": null,
            "align_self": null,
            "border": null,
            "bottom": null,
            "display": null,
            "flex": null,
            "flex_flow": null,
            "grid_area": null,
            "grid_auto_columns": null,
            "grid_auto_flow": null,
            "grid_auto_rows": null,
            "grid_column": null,
            "grid_gap": null,
            "grid_row": null,
            "grid_template_areas": null,
            "grid_template_columns": null,
            "grid_template_rows": null,
            "height": null,
            "justify_content": null,
            "justify_items": null,
            "left": null,
            "margin": null,
            "max_height": null,
            "max_width": null,
            "min_height": null,
            "min_width": null,
            "object_fit": null,
            "object_position": null,
            "order": null,
            "overflow": null,
            "overflow_x": null,
            "overflow_y": null,
            "padding": null,
            "right": null,
            "top": null,
            "visibility": null,
            "width": null
          }
        },
        "996996955921445c8ad321216cc9d3e4": {
          "model_module": "@jupyter-widgets/controls",
          "model_name": "DescriptionStyleModel",
          "model_module_version": "1.5.0",
          "state": {
            "_model_module": "@jupyter-widgets/controls",
            "_model_module_version": "1.5.0",
            "_model_name": "DescriptionStyleModel",
            "_view_count": null,
            "_view_module": "@jupyter-widgets/base",
            "_view_module_version": "1.2.0",
            "_view_name": "StyleView",
            "description_width": ""
          }
        },
        "db29e12c812c478ba6e144ad3a9eb4d6": {
          "model_module": "@jupyter-widgets/base",
          "model_name": "LayoutModel",
          "model_module_version": "1.2.0",
          "state": {
            "_model_module": "@jupyter-widgets/base",
            "_model_module_version": "1.2.0",
            "_model_name": "LayoutModel",
            "_view_count": null,
            "_view_module": "@jupyter-widgets/base",
            "_view_module_version": "1.2.0",
            "_view_name": "LayoutView",
            "align_content": null,
            "align_items": null,
            "align_self": null,
            "border": null,
            "bottom": null,
            "display": null,
            "flex": null,
            "flex_flow": null,
            "grid_area": null,
            "grid_auto_columns": null,
            "grid_auto_flow": null,
            "grid_auto_rows": null,
            "grid_column": null,
            "grid_gap": null,
            "grid_row": null,
            "grid_template_areas": null,
            "grid_template_columns": null,
            "grid_template_rows": null,
            "height": null,
            "justify_content": null,
            "justify_items": null,
            "left": null,
            "margin": null,
            "max_height": null,
            "max_width": null,
            "min_height": null,
            "min_width": null,
            "object_fit": null,
            "object_position": null,
            "order": null,
            "overflow": null,
            "overflow_x": null,
            "overflow_y": null,
            "padding": null,
            "right": null,
            "top": null,
            "visibility": null,
            "width": null
          }
        },
        "25cee0ccd7674d259338e326f73ab27c": {
          "model_module": "@jupyter-widgets/controls",
          "model_name": "ProgressStyleModel",
          "model_module_version": "1.5.0",
          "state": {
            "_model_module": "@jupyter-widgets/controls",
            "_model_module_version": "1.5.0",
            "_model_name": "ProgressStyleModel",
            "_view_count": null,
            "_view_module": "@jupyter-widgets/base",
            "_view_module_version": "1.2.0",
            "_view_name": "StyleView",
            "bar_color": null,
            "description_width": ""
          }
        },
        "9fe9b297f1e4469d9e02a42dac9e20ec": {
          "model_module": "@jupyter-widgets/base",
          "model_name": "LayoutModel",
          "model_module_version": "1.2.0",
          "state": {
            "_model_module": "@jupyter-widgets/base",
            "_model_module_version": "1.2.0",
            "_model_name": "LayoutModel",
            "_view_count": null,
            "_view_module": "@jupyter-widgets/base",
            "_view_module_version": "1.2.0",
            "_view_name": "LayoutView",
            "align_content": null,
            "align_items": null,
            "align_self": null,
            "border": null,
            "bottom": null,
            "display": null,
            "flex": null,
            "flex_flow": null,
            "grid_area": null,
            "grid_auto_columns": null,
            "grid_auto_flow": null,
            "grid_auto_rows": null,
            "grid_column": null,
            "grid_gap": null,
            "grid_row": null,
            "grid_template_areas": null,
            "grid_template_columns": null,
            "grid_template_rows": null,
            "height": null,
            "justify_content": null,
            "justify_items": null,
            "left": null,
            "margin": null,
            "max_height": null,
            "max_width": null,
            "min_height": null,
            "min_width": null,
            "object_fit": null,
            "object_position": null,
            "order": null,
            "overflow": null,
            "overflow_x": null,
            "overflow_y": null,
            "padding": null,
            "right": null,
            "top": null,
            "visibility": null,
            "width": null
          }
        },
        "5cd6871b2c594168a16ec823cb50c4f6": {
          "model_module": "@jupyter-widgets/controls",
          "model_name": "DescriptionStyleModel",
          "model_module_version": "1.5.0",
          "state": {
            "_model_module": "@jupyter-widgets/controls",
            "_model_module_version": "1.5.0",
            "_model_name": "DescriptionStyleModel",
            "_view_count": null,
            "_view_module": "@jupyter-widgets/base",
            "_view_module_version": "1.2.0",
            "_view_name": "StyleView",
            "description_width": ""
          }
        },
        "56dad9e10d9c488eb13fa246a811d970": {
          "model_module": "@jupyter-widgets/controls",
          "model_name": "HBoxModel",
          "model_module_version": "1.5.0",
          "state": {
            "_dom_classes": [],
            "_model_module": "@jupyter-widgets/controls",
            "_model_module_version": "1.5.0",
            "_model_name": "HBoxModel",
            "_view_count": null,
            "_view_module": "@jupyter-widgets/controls",
            "_view_module_version": "1.5.0",
            "_view_name": "HBoxView",
            "box_style": "",
            "children": [
              "IPY_MODEL_82df7973552e4334af4431be6a675e8c",
              "IPY_MODEL_99b7188d336043c88d00b02831f966e6",
              "IPY_MODEL_fda317737db14292979cc0558969e5f0"
            ],
            "layout": "IPY_MODEL_a2f1d655fe3542e1b9ee02435a68c17f"
          }
        },
        "82df7973552e4334af4431be6a675e8c": {
          "model_module": "@jupyter-widgets/controls",
          "model_name": "HTMLModel",
          "model_module_version": "1.5.0",
          "state": {
            "_dom_classes": [],
            "_model_module": "@jupyter-widgets/controls",
            "_model_module_version": "1.5.0",
            "_model_name": "HTMLModel",
            "_view_count": null,
            "_view_module": "@jupyter-widgets/controls",
            "_view_module_version": "1.5.0",
            "_view_name": "HTMLView",
            "description": "",
            "description_tooltip": null,
            "layout": "IPY_MODEL_457cc48132cb43afbfbf31787ae20512",
            "placeholder": "​",
            "style": "IPY_MODEL_d07b559a9c9e4a41b58ae11f9ccd38b6",
            "value": "Downloading pytorch_model.bin: 100%"
          }
        },
        "99b7188d336043c88d00b02831f966e6": {
          "model_module": "@jupyter-widgets/controls",
          "model_name": "FloatProgressModel",
          "model_module_version": "1.5.0",
          "state": {
            "_dom_classes": [],
            "_model_module": "@jupyter-widgets/controls",
            "_model_module_version": "1.5.0",
            "_model_name": "FloatProgressModel",
            "_view_count": null,
            "_view_module": "@jupyter-widgets/controls",
            "_view_module_version": "1.5.0",
            "_view_name": "ProgressView",
            "bar_style": "success",
            "description": "",
            "description_tooltip": null,
            "layout": "IPY_MODEL_4b1e78b11f35484c8cb2b79bec470522",
            "max": 496318791,
            "min": 0,
            "orientation": "horizontal",
            "style": "IPY_MODEL_fcc2a41377944552ad8d0c5288235673",
            "value": 496318791
          }
        },
        "fda317737db14292979cc0558969e5f0": {
          "model_module": "@jupyter-widgets/controls",
          "model_name": "HTMLModel",
          "model_module_version": "1.5.0",
          "state": {
            "_dom_classes": [],
            "_model_module": "@jupyter-widgets/controls",
            "_model_module_version": "1.5.0",
            "_model_name": "HTMLModel",
            "_view_count": null,
            "_view_module": "@jupyter-widgets/controls",
            "_view_module_version": "1.5.0",
            "_view_name": "HTMLView",
            "description": "",
            "description_tooltip": null,
            "layout": "IPY_MODEL_27a367ee68a5454c838e2f36d686e5f5",
            "placeholder": "​",
            "style": "IPY_MODEL_3647ab38367e4de19db0a22af1616dbb",
            "value": " 496M/496M [00:40&lt;00:00, 8.58MB/s]"
          }
        },
        "a2f1d655fe3542e1b9ee02435a68c17f": {
          "model_module": "@jupyter-widgets/base",
          "model_name": "LayoutModel",
          "model_module_version": "1.2.0",
          "state": {
            "_model_module": "@jupyter-widgets/base",
            "_model_module_version": "1.2.0",
            "_model_name": "LayoutModel",
            "_view_count": null,
            "_view_module": "@jupyter-widgets/base",
            "_view_module_version": "1.2.0",
            "_view_name": "LayoutView",
            "align_content": null,
            "align_items": null,
            "align_self": null,
            "border": null,
            "bottom": null,
            "display": null,
            "flex": null,
            "flex_flow": null,
            "grid_area": null,
            "grid_auto_columns": null,
            "grid_auto_flow": null,
            "grid_auto_rows": null,
            "grid_column": null,
            "grid_gap": null,
            "grid_row": null,
            "grid_template_areas": null,
            "grid_template_columns": null,
            "grid_template_rows": null,
            "height": null,
            "justify_content": null,
            "justify_items": null,
            "left": null,
            "margin": null,
            "max_height": null,
            "max_width": null,
            "min_height": null,
            "min_width": null,
            "object_fit": null,
            "object_position": null,
            "order": null,
            "overflow": null,
            "overflow_x": null,
            "overflow_y": null,
            "padding": null,
            "right": null,
            "top": null,
            "visibility": null,
            "width": null
          }
        },
        "457cc48132cb43afbfbf31787ae20512": {
          "model_module": "@jupyter-widgets/base",
          "model_name": "LayoutModel",
          "model_module_version": "1.2.0",
          "state": {
            "_model_module": "@jupyter-widgets/base",
            "_model_module_version": "1.2.0",
            "_model_name": "LayoutModel",
            "_view_count": null,
            "_view_module": "@jupyter-widgets/base",
            "_view_module_version": "1.2.0",
            "_view_name": "LayoutView",
            "align_content": null,
            "align_items": null,
            "align_self": null,
            "border": null,
            "bottom": null,
            "display": null,
            "flex": null,
            "flex_flow": null,
            "grid_area": null,
            "grid_auto_columns": null,
            "grid_auto_flow": null,
            "grid_auto_rows": null,
            "grid_column": null,
            "grid_gap": null,
            "grid_row": null,
            "grid_template_areas": null,
            "grid_template_columns": null,
            "grid_template_rows": null,
            "height": null,
            "justify_content": null,
            "justify_items": null,
            "left": null,
            "margin": null,
            "max_height": null,
            "max_width": null,
            "min_height": null,
            "min_width": null,
            "object_fit": null,
            "object_position": null,
            "order": null,
            "overflow": null,
            "overflow_x": null,
            "overflow_y": null,
            "padding": null,
            "right": null,
            "top": null,
            "visibility": null,
            "width": null
          }
        },
        "d07b559a9c9e4a41b58ae11f9ccd38b6": {
          "model_module": "@jupyter-widgets/controls",
          "model_name": "DescriptionStyleModel",
          "model_module_version": "1.5.0",
          "state": {
            "_model_module": "@jupyter-widgets/controls",
            "_model_module_version": "1.5.0",
            "_model_name": "DescriptionStyleModel",
            "_view_count": null,
            "_view_module": "@jupyter-widgets/base",
            "_view_module_version": "1.2.0",
            "_view_name": "StyleView",
            "description_width": ""
          }
        },
        "4b1e78b11f35484c8cb2b79bec470522": {
          "model_module": "@jupyter-widgets/base",
          "model_name": "LayoutModel",
          "model_module_version": "1.2.0",
          "state": {
            "_model_module": "@jupyter-widgets/base",
            "_model_module_version": "1.2.0",
            "_model_name": "LayoutModel",
            "_view_count": null,
            "_view_module": "@jupyter-widgets/base",
            "_view_module_version": "1.2.0",
            "_view_name": "LayoutView",
            "align_content": null,
            "align_items": null,
            "align_self": null,
            "border": null,
            "bottom": null,
            "display": null,
            "flex": null,
            "flex_flow": null,
            "grid_area": null,
            "grid_auto_columns": null,
            "grid_auto_flow": null,
            "grid_auto_rows": null,
            "grid_column": null,
            "grid_gap": null,
            "grid_row": null,
            "grid_template_areas": null,
            "grid_template_columns": null,
            "grid_template_rows": null,
            "height": null,
            "justify_content": null,
            "justify_items": null,
            "left": null,
            "margin": null,
            "max_height": null,
            "max_width": null,
            "min_height": null,
            "min_width": null,
            "object_fit": null,
            "object_position": null,
            "order": null,
            "overflow": null,
            "overflow_x": null,
            "overflow_y": null,
            "padding": null,
            "right": null,
            "top": null,
            "visibility": null,
            "width": null
          }
        },
        "fcc2a41377944552ad8d0c5288235673": {
          "model_module": "@jupyter-widgets/controls",
          "model_name": "ProgressStyleModel",
          "model_module_version": "1.5.0",
          "state": {
            "_model_module": "@jupyter-widgets/controls",
            "_model_module_version": "1.5.0",
            "_model_name": "ProgressStyleModel",
            "_view_count": null,
            "_view_module": "@jupyter-widgets/base",
            "_view_module_version": "1.2.0",
            "_view_name": "StyleView",
            "bar_color": null,
            "description_width": ""
          }
        },
        "27a367ee68a5454c838e2f36d686e5f5": {
          "model_module": "@jupyter-widgets/base",
          "model_name": "LayoutModel",
          "model_module_version": "1.2.0",
          "state": {
            "_model_module": "@jupyter-widgets/base",
            "_model_module_version": "1.2.0",
            "_model_name": "LayoutModel",
            "_view_count": null,
            "_view_module": "@jupyter-widgets/base",
            "_view_module_version": "1.2.0",
            "_view_name": "LayoutView",
            "align_content": null,
            "align_items": null,
            "align_self": null,
            "border": null,
            "bottom": null,
            "display": null,
            "flex": null,
            "flex_flow": null,
            "grid_area": null,
            "grid_auto_columns": null,
            "grid_auto_flow": null,
            "grid_auto_rows": null,
            "grid_column": null,
            "grid_gap": null,
            "grid_row": null,
            "grid_template_areas": null,
            "grid_template_columns": null,
            "grid_template_rows": null,
            "height": null,
            "justify_content": null,
            "justify_items": null,
            "left": null,
            "margin": null,
            "max_height": null,
            "max_width": null,
            "min_height": null,
            "min_width": null,
            "object_fit": null,
            "object_position": null,
            "order": null,
            "overflow": null,
            "overflow_x": null,
            "overflow_y": null,
            "padding": null,
            "right": null,
            "top": null,
            "visibility": null,
            "width": null
          }
        },
        "3647ab38367e4de19db0a22af1616dbb": {
          "model_module": "@jupyter-widgets/controls",
          "model_name": "DescriptionStyleModel",
          "model_module_version": "1.5.0",
          "state": {
            "_model_module": "@jupyter-widgets/controls",
            "_model_module_version": "1.5.0",
            "_model_name": "DescriptionStyleModel",
            "_view_count": null,
            "_view_module": "@jupyter-widgets/base",
            "_view_module_version": "1.2.0",
            "_view_name": "StyleView",
            "description_width": ""
          }
        }
      }
    }
  },
  "cells": [
    {
      "cell_type": "markdown",
      "source": [
        "# **GRAMMATICAL ERROR DETECTION**\n",
        "\n",
        "It is a task of detecting grammatically incorrect token(s) in a given sequence.\n",
        "Grammatical error correction is a sequence to sequence problem but grammatical error detection is a token classification problem. \n",
        "  \n",
        "\n",
        "(here, defend the use GED instead of just simple GEC)\n",
        "  \n",
        "\n",
        "\n",
        "\n",
        "We have followed an industry standard for approaching data mining problem, known as CRISP process. It stands for Cross-Industry Standard Process. \n",
        "Below is the flowchart of CRISP-DM process.\n",
        "\n",
        "\n",
        "![crisp_process.jpg](data:image/jpeg;base64,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)\n",
        "  \n",
        "  [*source: IBM Documentation*]\n",
        "\n",
        "\n",
        "\n",
        "\n",
        "1. Business Understanding\n",
        "2. Data Understanding\n",
        "3. Data Preparation\n",
        "4. Modelling\n",
        "5. Evaluation\n",
        "6. Submission\n"
      ],
      "metadata": {
        "id": "MmcVwVI3tNft"
      }
    },
    {
      "cell_type": "markdown",
      "source": [
        "---"
      ],
      "metadata": {
        "id": "sA3AbxkN0neb"
      }
    },
    {
      "cell_type": "markdown",
      "source": [
        "# **1. Business Understanding**"
      ],
      "metadata": {
        "id": "19kHROTCyaAm"
      }
    },
    {
      "cell_type": "code",
      "source": [],
      "metadata": {
        "id": "mHLu2xdLyhfy"
      },
      "execution_count": null,
      "outputs": []
    },
    {
      "cell_type": "code",
      "source": [
        "import tensorflow as tf\n",
        "\n",
        "# Get the GPU device name.\n",
        "device_name = tf.test.gpu_device_name()\n",
        "\n",
        "# The device name should look like the following:\n",
        "if device_name == '/device:GPU:0':\n",
        "    print('Found GPU at: {}'.format(device_name))\n",
        "else:\n",
        "    raise SystemError('GPU device not found')"
      ],
      "metadata": {
        "colab": {
          "base_uri": "https://localhost:8080/"
        },
        "id": "rPFsmn0Axc7Q",
        "outputId": "684bb0fb-6862-4742-cec9-5c32e6fa9c33"
      },
      "execution_count": 1,
      "outputs": [
        {
          "output_type": "stream",
          "name": "stdout",
          "text": [
            "Found GPU at: /device:GPU:0\n"
          ]
        }
      ]
    },
    {
      "cell_type": "code",
      "source": [
        "import torch\n",
        "\n",
        "# If there's a GPU available...\n",
        "if torch.cuda.is_available():    \n",
        "\n",
        "    # Tell PyTorch to use the GPU.    \n",
        "    device = torch.device(\"cuda\")\n",
        "\n",
        "    print('There are %d GPU(s) available.' % torch.cuda.device_count())\n",
        "\n",
        "    print('We will use the GPU:', torch.cuda.get_device_name(0))\n",
        "\n",
        "# If not...\n",
        "else:\n",
        "    print('No GPU available, using the CPU instead.')\n",
        "    device = torch.device(\"cpu\")"
      ],
      "metadata": {
        "colab": {
          "base_uri": "https://localhost:8080/"
        },
        "id": "ewRw-HSTxdPD",
        "outputId": "cb59960b-9f0c-4eab-e66a-5b2f5eb6562d"
      },
      "execution_count": 2,
      "outputs": [
        {
          "output_type": "stream",
          "name": "stdout",
          "text": [
            "There are 1 GPU(s) available.\n",
            "We will use the GPU: Tesla T4\n"
          ]
        }
      ]
    },
    {
      "cell_type": "code",
      "source": [
        "!pip install transformers"
      ],
      "metadata": {
        "colab": {
          "base_uri": "https://localhost:8080/"
        },
        "id": "ut7TmA4pxeJI",
        "outputId": "44d53287-b5b9-4a22-9fde-013867415575"
      },
      "execution_count": 3,
      "outputs": [
        {
          "output_type": "stream",
          "name": "stdout",
          "text": [
            "Looking in indexes: https://pypi.org/simple, https://us-python.pkg.dev/colab-wheels/public/simple/\n",
            "Requirement already satisfied: transformers in /usr/local/lib/python3.10/dist-packages (4.28.1)\n",
            "Requirement already satisfied: packaging>=20.0 in /usr/local/lib/python3.10/dist-packages (from transformers) (23.1)\n",
            "Requirement already satisfied: tokenizers!=0.11.3,<0.14,>=0.11.1 in /usr/local/lib/python3.10/dist-packages (from transformers) (0.13.3)\n",
            "Requirement already satisfied: tqdm>=4.27 in /usr/local/lib/python3.10/dist-packages (from transformers) (4.65.0)\n",
            "Requirement already satisfied: filelock in /usr/local/lib/python3.10/dist-packages (from transformers) (3.12.0)\n",
            "Requirement already satisfied: requests in /usr/local/lib/python3.10/dist-packages (from transformers) (2.27.1)\n",
            "Requirement already satisfied: pyyaml>=5.1 in /usr/local/lib/python3.10/dist-packages (from transformers) (6.0)\n",
            "Requirement already satisfied: regex!=2019.12.17 in /usr/local/lib/python3.10/dist-packages (from transformers) (2022.10.31)\n",
            "Requirement already satisfied: numpy>=1.17 in /usr/local/lib/python3.10/dist-packages (from transformers) (1.22.4)\n",
            "Requirement already satisfied: huggingface-hub<1.0,>=0.11.0 in /usr/local/lib/python3.10/dist-packages (from transformers) (0.14.1)\n",
            "Requirement already satisfied: fsspec in /usr/local/lib/python3.10/dist-packages (from huggingface-hub<1.0,>=0.11.0->transformers) (2023.4.0)\n",
            "Requirement already satisfied: typing-extensions>=3.7.4.3 in /usr/local/lib/python3.10/dist-packages (from huggingface-hub<1.0,>=0.11.0->transformers) (4.5.0)\n",
            "Requirement already satisfied: charset-normalizer~=2.0.0 in /usr/local/lib/python3.10/dist-packages (from requests->transformers) (2.0.12)\n",
            "Requirement already satisfied: certifi>=2017.4.17 in /usr/local/lib/python3.10/dist-packages (from requests->transformers) (2022.12.7)\n",
            "Requirement already satisfied: idna<4,>=2.5 in /usr/local/lib/python3.10/dist-packages (from requests->transformers) (3.4)\n",
            "Requirement already satisfied: urllib3<1.27,>=1.21.1 in /usr/local/lib/python3.10/dist-packages (from requests->transformers) (1.26.15)\n"
          ]
        }
      ]
    },
    {
      "cell_type": "code",
      "source": [],
      "metadata": {
        "id": "7FHana--obF4"
      },
      "execution_count": 3,
      "outputs": []
    },
    {
      "cell_type": "code",
      "source": [],
      "metadata": {
        "id": "gmpBaevqxpaf"
      },
      "execution_count": 3,
      "outputs": []
    },
    {
      "cell_type": "markdown",
      "source": [
        "---"
      ],
      "metadata": {
        "id": "3SUq6aER0wTj"
      }
    },
    {
      "cell_type": "markdown",
      "source": [
        "# **2. Data Understanding** "
      ],
      "metadata": {
        "id": "XVsu61lGyh6W"
      }
    },
    {
      "cell_type": "code",
      "source": [],
      "metadata": {
        "id": "0uHNj_bdxbll"
      },
      "execution_count": 3,
      "outputs": []
    },
    {
      "cell_type": "code",
      "source": [
        "#loading data\n",
        "import pandas as pd\n",
        "\n",
        "df = pd.read_csv(\"en_fce_train.tsv\", delimiter='\\t', header=None, names=['token', 'label'])"
      ],
      "metadata": {
        "id": "WBf7JHz6yr3V"
      },
      "execution_count": 4,
      "outputs": []
    },
    {
      "cell_type": "code",
      "source": [
        "df.head(20)"
      ],
      "metadata": {
        "colab": {
          "base_uri": "https://localhost:8080/",
          "height": 677
        },
        "id": "QCgspmsl0IT3",
        "outputId": "c710a89c-459e-44bf-c209-6d69b52f6be1"
      },
      "execution_count": 5,
      "outputs": [
        {
          "output_type": "execute_result",
          "data": {
            "text/plain": [
              "             token label\n",
              "0             Dear     c\n",
              "1              Sir     c\n",
              "2               or     c\n",
              "3            Madam     c\n",
              "4                ,     c\n",
              "5                I     c\n",
              "6               am     c\n",
              "7          writing     c\n",
              "8               in     c\n",
              "9            order     c\n",
              "10              to     c\n",
              "11         express     c\n",
              "12              my     c\n",
              "13  disappointment     c\n",
              "14           about     i\n",
              "15            your     c\n",
              "16         musical     c\n",
              "17            show     c\n",
              "18              \\\"     c\n",
              "19            Over     c"
            ],
            "text/html": [
              "\n",
              "  <div id=\"df-48229aa7-7cd6-4631-bc8d-79da1e73b7fe\">\n",
              "    <div class=\"colab-df-container\">\n",
              "      <div>\n",
              "<style scoped>\n",
              "    .dataframe tbody tr th:only-of-type {\n",
              "        vertical-align: middle;\n",
              "    }\n",
              "\n",
              "    .dataframe tbody tr th {\n",
              "        vertical-align: top;\n",
              "    }\n",
              "\n",
              "    .dataframe thead th {\n",
              "        text-align: right;\n",
              "    }\n",
              "</style>\n",
              "<table border=\"1\" class=\"dataframe\">\n",
              "  <thead>\n",
              "    <tr style=\"text-align: right;\">\n",
              "      <th></th>\n",
              "      <th>token</th>\n",
              "      <th>label</th>\n",
              "    </tr>\n",
              "  </thead>\n",
              "  <tbody>\n",
              "    <tr>\n",
              "      <th>0</th>\n",
              "      <td>Dear</td>\n",
              "      <td>c</td>\n",
              "    </tr>\n",
              "    <tr>\n",
              "      <th>1</th>\n",
              "      <td>Sir</td>\n",
              "      <td>c</td>\n",
              "    </tr>\n",
              "    <tr>\n",
              "      <th>2</th>\n",
              "      <td>or</td>\n",
              "      <td>c</td>\n",
              "    </tr>\n",
              "    <tr>\n",
              "      <th>3</th>\n",
              "      <td>Madam</td>\n",
              "      <td>c</td>\n",
              "    </tr>\n",
              "    <tr>\n",
              "      <th>4</th>\n",
              "      <td>,</td>\n",
              "      <td>c</td>\n",
              "    </tr>\n",
              "    <tr>\n",
              "      <th>5</th>\n",
              "      <td>I</td>\n",
              "      <td>c</td>\n",
              "    </tr>\n",
              "    <tr>\n",
              "      <th>6</th>\n",
              "      <td>am</td>\n",
              "      <td>c</td>\n",
              "    </tr>\n",
              "    <tr>\n",
              "      <th>7</th>\n",
              "      <td>writing</td>\n",
              "      <td>c</td>\n",
              "    </tr>\n",
              "    <tr>\n",
              "      <th>8</th>\n",
              "      <td>in</td>\n",
              "      <td>c</td>\n",
              "    </tr>\n",
              "    <tr>\n",
              "      <th>9</th>\n",
              "      <td>order</td>\n",
              "      <td>c</td>\n",
              "    </tr>\n",
              "    <tr>\n",
              "      <th>10</th>\n",
              "      <td>to</td>\n",
              "      <td>c</td>\n",
              "    </tr>\n",
              "    <tr>\n",
              "      <th>11</th>\n",
              "      <td>express</td>\n",
              "      <td>c</td>\n",
              "    </tr>\n",
              "    <tr>\n",
              "      <th>12</th>\n",
              "      <td>my</td>\n",
              "      <td>c</td>\n",
              "    </tr>\n",
              "    <tr>\n",
              "      <th>13</th>\n",
              "      <td>disappointment</td>\n",
              "      <td>c</td>\n",
              "    </tr>\n",
              "    <tr>\n",
              "      <th>14</th>\n",
              "      <td>about</td>\n",
              "      <td>i</td>\n",
              "    </tr>\n",
              "    <tr>\n",
              "      <th>15</th>\n",
              "      <td>your</td>\n",
              "      <td>c</td>\n",
              "    </tr>\n",
              "    <tr>\n",
              "      <th>16</th>\n",
              "      <td>musical</td>\n",
              "      <td>c</td>\n",
              "    </tr>\n",
              "    <tr>\n",
              "      <th>17</th>\n",
              "      <td>show</td>\n",
              "      <td>c</td>\n",
              "    </tr>\n",
              "    <tr>\n",
              "      <th>18</th>\n",
              "      <td>\\\"</td>\n",
              "      <td>c</td>\n",
              "    </tr>\n",
              "    <tr>\n",
              "      <th>19</th>\n",
              "      <td>Over</td>\n",
              "      <td>c</td>\n",
              "    </tr>\n",
              "  </tbody>\n",
              "</table>\n",
              "</div>\n",
              "      <button class=\"colab-df-convert\" onclick=\"convertToInteractive('df-48229aa7-7cd6-4631-bc8d-79da1e73b7fe')\"\n",
              "              title=\"Convert this dataframe to an interactive table.\"\n",
              "              style=\"display:none;\">\n",
              "        \n",
              "  <svg xmlns=\"http://www.w3.org/2000/svg\" height=\"24px\"viewBox=\"0 0 24 24\"\n",
              "       width=\"24px\">\n",
              "    <path d=\"M0 0h24v24H0V0z\" fill=\"none\"/>\n",
              "    <path d=\"M18.56 5.44l.94 2.06.94-2.06 2.06-.94-2.06-.94-.94-2.06-.94 2.06-2.06.94zm-11 1L8.5 8.5l.94-2.06 2.06-.94-2.06-.94L8.5 2.5l-.94 2.06-2.06.94zm10 10l.94 2.06.94-2.06 2.06-.94-2.06-.94-.94-2.06-.94 2.06-2.06.94z\"/><path d=\"M17.41 7.96l-1.37-1.37c-.4-.4-.92-.59-1.43-.59-.52 0-1.04.2-1.43.59L10.3 9.45l-7.72 7.72c-.78.78-.78 2.05 0 2.83L4 21.41c.39.39.9.59 1.41.59.51 0 1.02-.2 1.41-.59l7.78-7.78 2.81-2.81c.8-.78.8-2.07 0-2.86zM5.41 20L4 18.59l7.72-7.72 1.47 1.35L5.41 20z\"/>\n",
              "  </svg>\n",
              "      </button>\n",
              "      \n",
              "  <style>\n",
              "    .colab-df-container {\n",
              "      display:flex;\n",
              "      flex-wrap:wrap;\n",
              "      gap: 12px;\n",
              "    }\n",
              "\n",
              "    .colab-df-convert {\n",
              "      background-color: #E8F0FE;\n",
              "      border: none;\n",
              "      border-radius: 50%;\n",
              "      cursor: pointer;\n",
              "      display: none;\n",
              "      fill: #1967D2;\n",
              "      height: 32px;\n",
              "      padding: 0 0 0 0;\n",
              "      width: 32px;\n",
              "    }\n",
              "\n",
              "    .colab-df-convert:hover {\n",
              "      background-color: #E2EBFA;\n",
              "      box-shadow: 0px 1px 2px rgba(60, 64, 67, 0.3), 0px 1px 3px 1px rgba(60, 64, 67, 0.15);\n",
              "      fill: #174EA6;\n",
              "    }\n",
              "\n",
              "    [theme=dark] .colab-df-convert {\n",
              "      background-color: #3B4455;\n",
              "      fill: #D2E3FC;\n",
              "    }\n",
              "\n",
              "    [theme=dark] .colab-df-convert:hover {\n",
              "      background-color: #434B5C;\n",
              "      box-shadow: 0px 1px 3px 1px rgba(0, 0, 0, 0.15);\n",
              "      filter: drop-shadow(0px 1px 2px rgba(0, 0, 0, 0.3));\n",
              "      fill: #FFFFFF;\n",
              "    }\n",
              "  </style>\n",
              "\n",
              "      <script>\n",
              "        const buttonEl =\n",
              "          document.querySelector('#df-48229aa7-7cd6-4631-bc8d-79da1e73b7fe button.colab-df-convert');\n",
              "        buttonEl.style.display =\n",
              "          google.colab.kernel.accessAllowed ? 'block' : 'none';\n",
              "\n",
              "        async function convertToInteractive(key) {\n",
              "          const element = document.querySelector('#df-48229aa7-7cd6-4631-bc8d-79da1e73b7fe');\n",
              "          const dataTable =\n",
              "            await google.colab.kernel.invokeFunction('convertToInteractive',\n",
              "                                                     [key], {});\n",
              "          if (!dataTable) return;\n",
              "\n",
              "          const docLinkHtml = 'Like what you see? Visit the ' +\n",
              "            '<a target=\"_blank\" href=https://colab.research.google.com/notebooks/data_table.ipynb>data table notebook</a>'\n",
              "            + ' to learn more about interactive tables.';\n",
              "          element.innerHTML = '';\n",
              "          dataTable['output_type'] = 'display_data';\n",
              "          await google.colab.output.renderOutput(dataTable, element);\n",
              "          const docLink = document.createElement('div');\n",
              "          docLink.innerHTML = docLinkHtml;\n",
              "          element.appendChild(docLink);\n",
              "        }\n",
              "      </script>\n",
              "    </div>\n",
              "  </div>\n",
              "  "
            ]
          },
          "metadata": {},
          "execution_count": 5
        }
      ]
    },
    {
      "cell_type": "code",
      "source": [
        "df.shape"
      ],
      "metadata": {
        "colab": {
          "base_uri": "https://localhost:8080/"
        },
        "id": "ikn9nZHI0NWh",
        "outputId": "609f5e7a-198c-42ea-c5a5-539fbf21814a"
      },
      "execution_count": 5,
      "outputs": [
        {
          "output_type": "execute_result",
          "data": {
            "text/plain": [
              "(454730, 2)"
            ]
          },
          "metadata": {},
          "execution_count": 5
        }
      ]
    },
    {
      "cell_type": "markdown",
      "source": [
        "Given dataset has 454730 tokens, each tokens are classified in two categories- *'c'* or *'i'*, standing for *'correct'* and *'incorrect'* respectively"
      ],
      "metadata": {
        "id": "98eAdZfy1aFT"
      }
    },
    {
      "cell_type": "code",
      "source": [
        "#checking if data is imbalance or not\n",
        "def imbalance(target_column):\n",
        "    return (target_column.value_counts()/target_column.value_counts().sum())*100\n",
        "\n",
        "imbalance(df['label'])\n",
        "\n",
        "#plotting bar plot of labels\n",
        "import matplotlib.pyplot as plt\n",
        "df['label'].value_counts(normalize=True).plot(kind='bar')\n",
        "plt.title('label')\n",
        "plt.show()"
      ],
      "metadata": {
        "colab": {
          "base_uri": "https://localhost:8080/",
          "height": 446
        },
        "id": "t1BLj_xz1ox8",
        "outputId": "50619b6e-1d26-4f8b-9f3f-674208d16f7e"
      },
      "execution_count": 6,
      "outputs": [
        {
          "output_type": "display_data",
          "data": {
            "text/plain": [
              "<Figure size 640x480 with 1 Axes>"
            ],
            "image/png": "[encoded data removed]"
          },
          "metadata": {}
        }
      ]
    },
    {
      "cell_type": "markdown",
      "source": [
        "Data is highly imbalanced in which ~90% of tokens are labelled *'c'*"
      ],
      "metadata": {
        "id": "qWNouReU3LPo"
      }
    },
    {
      "cell_type": "code",
      "source": [
        "  "
      ],
      "metadata": {
        "id": "bgezVlEx3mOv"
      },
      "execution_count": 7,
      "outputs": []
    },
    {
      "cell_type": "code",
      "source": [
        "#columnwise number of missing values \n",
        "df.isnull().sum()"
      ],
      "metadata": {
        "colab": {
          "base_uri": "https://localhost:8080/"
        },
        "id": "0yOwn0C63UXP",
        "outputId": "668e2891-7ffa-40a3-f77b-961cefe5d337"
      },
      "execution_count": 7,
      "outputs": [
        {
          "output_type": "execute_result",
          "data": {
            "text/plain": [
              "token    0\n",
              "label    0\n",
              "dtype: int64"
            ]
          },
          "metadata": {},
          "execution_count": 7
        }
      ]
    },
    {
      "cell_type": "markdown",
      "source": [
        "No null values in the given dataset\n"
      ],
      "metadata": {
        "id": "fJxl2aOD3kDr"
      }
    },
    {
      "cell_type": "code",
      "source": [],
      "metadata": {
        "id": "p_O1nfbZhP8e"
      },
      "execution_count": 8,
      "outputs": []
    },
    {
      "cell_type": "code",
      "source": [],
      "metadata": {
        "id": "8R0xCPmohKF_"
      },
      "execution_count": 8,
      "outputs": []
    },
    {
      "cell_type": "code",
      "source": [],
      "metadata": {
        "id": "jt0EVxiChAUd"
      },
      "execution_count": 8,
      "outputs": []
    },
    {
      "cell_type": "markdown",
      "source": [
        "---"
      ],
      "metadata": {
        "id": "0O_uigxa0yuf"
      }
    },
    {
      "cell_type": "markdown",
      "source": [
        "# **3. Data Preparation**"
      ],
      "metadata": {
        "id": "l0gafNPbysWU"
      }
    },
    {
      "cell_type": "code",
      "source": [],
      "metadata": {
        "id": "xEDLmPfqm5Rc"
      },
      "execution_count": 8,
      "outputs": []
    },
    {
      "cell_type": "markdown",
      "source": [
        "Given training data is in the form of:  \n",
        "token1 -> label1  \n",
        "token2 -> label2  \n",
        "token3 -> label3  \n",
        "...  \n",
        "  \n",
        "We want in the form of:  \n",
        "sentences = [[token1, token2], [token3, token4, token5]...]  \n",
        "labels = [[label1, label2], [label3, label4, label5]...]"
      ],
      "metadata": {
        "id": "rutOXJpJm7Z6"
      }
    },
    {
      "cell_type": "code",
      "source": [
        "sentences = []\n",
        "labels = []\n",
        "unique_labels = set()\n",
        "\n",
        "\n",
        "temp_sentences = []\n",
        "temp_labels = []\n",
        "for index, row in df.iterrows():\n",
        "  if row[\"token\"] != '.':\n",
        "    temp_sentences.append(row['token'])\n",
        "    temp_labels.append(row['label'])\n",
        "    \n",
        "  else:\n",
        "    temp_sentences.append(row['token'])\n",
        "    temp_labels.append(row['label'])\n",
        "    \n",
        "    unique_labels.add(row['label'])\n",
        "    sentences.append(temp_sentences)\n",
        "    labels.append(temp_labels)\n",
        "    temp_labels = []\n",
        "    temp_sentences = []\n"
      ],
      "metadata": {
        "id": "kEGYTuT0ywNN"
      },
      "execution_count": 8,
      "outputs": []
    },
    {
      "cell_type": "code",
      "source": [
        "print(unique_labels)\n",
        "print(sentences[0])\n",
        "print(labels[0])"
      ],
      "metadata": {
        "colab": {
          "base_uri": "https://localhost:8080/"
        },
        "id": "FPBDezB1Y-Zd",
        "outputId": "9c6875f7-c40e-4277-be9a-7dad6b583fa9"
      },
      "execution_count": 9,
      "outputs": [
        {
          "output_type": "stream",
          "name": "stdout",
          "text": [
            "{'c', 'i'}\n",
            "['Dear', 'Sir', 'or', 'Madam', ',', 'I', 'am', 'writing', 'in', 'order', 'to', 'express', 'my', 'disappointment', 'about', 'your', 'musical', 'show', '\\\\\"', 'Over', 'the', 'Rainbow', '\\\\\"', '.']\n",
            "['c', 'c', 'c', 'c', 'c', 'c', 'c', 'c', 'c', 'c', 'c', 'c', 'c', 'c', 'i', 'c', 'c', 'c', 'c', 'c', 'c', 'c', 'c', 'c']\n"
          ]
        }
      ]
    },
    {
      "cell_type": "code",
      "source": [
        "# Map each unique label to an integer.\n",
        "label_map = {'i': 0, 'c': 1}\n",
        "label_map"
      ],
      "metadata": {
        "colab": {
          "base_uri": "https://localhost:8080/"
        },
        "id": "2YCFw6btZLpI",
        "outputId": "93f96c43-c32b-43c8-a0df-46275b01e06c"
      },
      "execution_count": 10,
      "outputs": [
        {
          "output_type": "execute_result",
          "data": {
            "text/plain": [
              "{'i': 0, 'c': 1}"
            ]
          },
          "metadata": {},
          "execution_count": 10
        }
      ]
    },
    {
      "cell_type": "code",
      "source": [
        "print(\"Number of training sentences: {:,}\".format(len(sentences)))"
      ],
      "metadata": {
        "colab": {
          "base_uri": "https://localhost:8080/"
        },
        "id": "BKSaAZZhxNJm",
        "outputId": "4af2be1c-8158-4fac-a4cb-a9c6a509365e"
      },
      "execution_count": 11,
      "outputs": [
        {
          "output_type": "stream",
          "name": "stdout",
          "text": [
            "Number of training sentences: 23,069\n"
          ]
        }
      ]
    },
    {
      "cell_type": "code",
      "source": [
        "from transformers import  RobertaForTokenClassification,RobertaTokenizer\n",
        "import numpy as np\n",
        "\n",
        "tokenizer = RobertaTokenizer.from_pretrained('MMG/roberta-base-ner-english')\n",
        "\n",
        "# to record the length of each sequence\n",
        "lengths = []\n",
        "\n",
        "for i in sentences:\n",
        "\n",
        "    # reconstructing the sentence to let BERT decide how to tokenize it\n",
        "    i = ' '.join(i)\n",
        "\n",
        "    encoded_sent = tokenizer.encode(i)\n",
        "       \n",
        "    lengths.append(len(encoded_sent))"
      ],
      "metadata": {
        "id": "3xAlVBKrxOqv",
        "colab": {
          "base_uri": "https://localhost:8080/",
          "height": 145,
          "referenced_widgets": [
            "8a3eab1e800f4074be88f402baa3bd25",
            "ae328ff310ed4471a10054c95e5c7e03",
            "7515ed461cb9418ba5ae6dc2251722d8",
            "73696fcb7825426abf6b2a8c431481a6",
            "1e00f6729e9a45638a419c763746cce0",
            "533ef3c6109146a3a3d8fd066b5b3ec6",
            "b5e56f3c9a5f4aafa43a0d27065eec0b",
            "2d625ecd9d9c40d0ba0382f3b3457405",
            "fc1be955d38a4e7bbd39d1376e0be208",
            "8bcff5723bd846c282b48be2ff97127a",
            "fb9323616a97432a962df3cd7bd69e74",
            "f4653aa7fcf14b9e9c9123ada71f9491",
            "c73c58410c404af689a6f616eb80e8aa",
            "814993dcb2b644ab99c789036ff5e114",
            "93292c70b769473fab626c445b0c0424",
            "4e9ba6dcdc3742f6ab7bd87fe1ffa22f",
            "073e54d891bd4ac8b4935ca047b2743e",
            "75b49cce6b9a4181a21a7713de6c267a",
            "812da325bb8a4643997a9ea25234463a",
            "8a9de50e2c1b4ee79c8fadd72bbe9c73",
            "6200d8885481453daee89d5d4cc6d657",
            "382884277e1e419586ce7501944984ea",
            "cd5ad40f166e4b3f99b335442600ccf2",
            "19da093a82ec444c8d84266e580adc03",
            "d1be085bd0dc4cdcb02797ce1e0ed24c",
            "978e1fcc5a814865ac78de5e123887dc",
            "14a991e24de743f881b6259c2d6e7112",
            "8b48e2f27c72493aa94140f1d724fcd2",
            "9d538e9c8af149a5b96e3f27bd49f7f8",
            "afbfc44ee39543e28de40b05bf9d4529",
            "2f3092ec02474ac29f6839303ed8c958",
            "35b8c32d3e804d118baf2a621963bb10",
            "5cde661d8d6a47f3a0eb9c28a2ed8719",
            "e2e36909df5f4bf4a255a1b16fe79bb7",
            "5badd27cec8a4ada86d7db02016bf15a",
            "eae9c0b55b744a9cb4190833b33bc1d1",
            "9702e88cab7a42c883411115e2a7e3dc",
            "9754062fc8834af09f67a41fefe2dff0",
            "98ee569b8c2944e687e29f9a8c1e8840",
            "fd08fd66735d4ab89988e7a5b48c7d99",
            "c36f179c30134422bca3bc07dc30b234",
            "24a16e3ac2e044aa858aff153621a520",
            "20f81c291bf44d6e862b9b9ff1d1f5c9",
            "69816d51f3504f15921fbe7dede6519a"
          ]
        },
        "outputId": "b495c348-5077-4a38-8b39-496c9718035a"
      },
      "execution_count": 12,
      "outputs": [
        {
          "output_type": "display_data",
          "data": {
            "text/plain": [
              "Downloading (…)olve/main/vocab.json:   0%|          | 0.00/798k [00:00<?, ?B/s]"
            ],
            "application/vnd.jupyter.widget-view+json": {
              "version_major": 2,
              "version_minor": 0,
              "model_id": "8a3eab1e800f4074be88f402baa3bd25"
            }
          },
          "metadata": {}
        },
        {
          "output_type": "display_data",
          "data": {
            "text/plain": [
              "Downloading (…)olve/main/merges.txt:   0%|          | 0.00/456k [00:00<?, ?B/s]"
            ],
            "application/vnd.jupyter.widget-view+json": {
              "version_major": 2,
              "version_minor": 0,
              "model_id": "f4653aa7fcf14b9e9c9123ada71f9491"
            }
          },
          "metadata": {}
        },
        {
          "output_type": "display_data",
          "data": {
            "text/plain": [
              "Downloading (…)cial_tokens_map.json:   0%|          | 0.00/280 [00:00<?, ?B/s]"
            ],
            "application/vnd.jupyter.widget-view+json": {
              "version_major": 2,
              "version_minor": 0,
              "model_id": "cd5ad40f166e4b3f99b335442600ccf2"
            }
          },
          "metadata": {}
        },
        {
          "output_type": "display_data",
          "data": {
            "text/plain": [
              "Downloading (…)okenizer_config.json:   0%|          | 0.00/413 [00:00<?, ?B/s]"
            ],
            "application/vnd.jupyter.widget-view+json": {
              "version_major": 2,
              "version_minor": 0,
              "model_id": "e2e36909df5f4bf4a255a1b16fe79bb7"
            }
          },
          "metadata": {}
        }
      ]
    },
    {
      "cell_type": "code",
      "source": [
        "print(encoded_sent)"
      ],
      "metadata": {
        "colab": {
          "base_uri": "https://localhost:8080/"
        },
        "id": "G3OHbQ-R6uy7",
        "outputId": "6dd63fd0-f19d-44a2-8ecf-c9ecc46f8cdb"
      },
      "execution_count": 13,
      "outputs": [
        {
          "output_type": "stream",
          "name": "stdout",
          "text": [
            "[0, 166, 697, 11, 10, 650, 8, 793, 30874, 1139, 8, 427, 4, 735, 21, 1687, 10, 13317, 4832, 4600, 10174, 39, 633, 21, 543, 13, 123, 2156, 53, 190, 4851, 21, 5, 872, 9, 39, 8055, 12384, 54, 58, 45, 1220, 7, 972, 123, 25606, 98, 2156, 15, 10, 4520, 1035, 183, 37, 362, 39, 507, 568, 8, 962, 19419, 30, 5, 15073, 61, 21, 19177, 479, 2]\n"
          ]
        }
      ]
    },
    {
      "cell_type": "code",
      "source": [
        "print('Max length: {:,} tokens'.format(max(lengths)))"
      ],
      "metadata": {
        "colab": {
          "base_uri": "https://localhost:8080/"
        },
        "id": "Hq9xH3jqxzmE",
        "outputId": "898150d9-7b32-49ec-c837-6ce0ffd4722b"
      },
      "execution_count": 14,
      "outputs": [
        {
          "output_type": "stream",
          "name": "stdout",
          "text": [
            "Max length: 236 tokens\n"
          ]
        }
      ]
    },
    {
      "cell_type": "code",
      "source": [
        "# Tokenize all of the sentences and map the tokens to thier word IDs.\n",
        "input_ids = []\n",
        "attention_masks = []\n",
        "\n",
        "for sent in sentences:\n",
        "\n",
        "    sent_str = ' '.join(sent)\n",
        "\n",
        "    encoded_dict = tokenizer.encode_plus(\n",
        "                        sent_str,                 \n",
        "                        add_special_tokens = True, \n",
        "                        truncation = True,\n",
        "                        max_length = 256,           \n",
        "                        pad_to_max_length = True,\n",
        "                        return_attention_mask = True,   \n",
        "                        return_tensors = 'pt',     \n",
        "                   )\n",
        "    \n",
        "    input_ids.append(encoded_dict['input_ids'][0])\n",
        "    \n",
        "    attention_masks.append(encoded_dict['attention_mask'][0])"
      ],
      "metadata": {
        "colab": {
          "base_uri": "https://localhost:8080/"
        },
        "id": "0xBy1hSsx35V",
        "outputId": "b0737a32-a177-4955-b692-288aebdceb42"
      },
      "execution_count": 15,
      "outputs": [
        {
          "output_type": "stream",
          "name": "stderr",
          "text": [
            "/usr/local/lib/python3.10/dist-packages/transformers/tokenization_utils_base.py:2354: FutureWarning: The `pad_to_max_length` argument is deprecated and will be removed in a future version, use `padding=True` or `padding='longest'` to pad to the longest sequence in the batch, or use `padding='max_length'` to pad to a max length. In this case, you can give a specific length with `max_length` (e.g. `max_length=45`) or leave max_length to None to pad to the maximal input size of the model (e.g. 512 for Bert).\n",
            "  warnings.warn(\n"
          ]
        }
      ]
    },
    {
      "cell_type": "code",
      "source": [
        "new_labels = []\n",
        "\n",
        "null_label_id = -100\n",
        "\n",
        "for sen, orig_labels in zip(input_ids, labels):\n",
        "  padded_labels = []\n",
        "  orig_labels_i = 0\n",
        "\n",
        "  n = len(orig_labels)\n",
        "\n",
        "  for token_id in sen:\n",
        "    token_id = token_id.numpy().item()\n",
        "    if (token_id == tokenizer.pad_token_id) or (token_id == tokenizer.cls_token_id) or (token_id == tokenizer.sep_token_id):\n",
        "      padded_labels.append(null_label_id)\n",
        "    #elif tokenizer.ids_to_tokens[token_id][0:2] == \"##\":\n",
        "     # padded_labels.append(null_label_id)\n",
        "    else:\n",
        "      if orig_labels_i < n:\n",
        "        padded_labels.append(label_map[orig_labels[orig_labels_i]])\n",
        "        orig_labels_i += 1\n",
        "  \n",
        "  new_labels.append(padded_labels)\n"
      ],
      "metadata": {
        "id": "R2RactD_x68p"
      },
      "execution_count": 16,
      "outputs": []
    },
    {
      "cell_type": "code",
      "source": [
        "print('\\nSentence:    ', sentences[0])\n",
        "print('\\nLabels:      ', labels[0])\n",
        "print('\\nRoBERTA Tokens: ', tokenizer.tokenize(' '.join(sentences[0])))\n",
        "print('\\nToken IDs:   ', input_ids[0])\n",
        "print('\\nNew Labels:  ', new_labels[0])\n",
        "print('\\nMask:        ', attention_masks[0])\n"
      ],
      "metadata": {
        "colab": {
          "base_uri": "https://localhost:8080/"
        },
        "id": "dZmQ19fzyBM6",
        "outputId": "bcd7e495-40a8-4eeb-f661-e09507290fa8"
      },
      "execution_count": 17,
      "outputs": [
        {
          "output_type": "stream",
          "name": "stdout",
          "text": [
            "\n",
            "Sentence:     ['Dear', 'Sir', 'or', 'Madam', ',', 'I', 'am', 'writing', 'in', 'order', 'to', 'express', 'my', 'disappointment', 'about', 'your', 'musical', 'show', '\\\\\"', 'Over', 'the', 'Rainbow', '\\\\\"', '.']\n",
            "\n",
            "Labels:       ['c', 'c', 'c', 'c', 'c', 'c', 'c', 'c', 'c', 'c', 'c', 'c', 'c', 'c', 'i', 'c', 'c', 'c', 'c', 'c', 'c', 'c', 'c', 'c']\n",
            "\n",
            "RoBERTA Tokens:  ['ĠDear', 'ĠSir', 'Ġor', 'ĠMad', 'am', 'Ġ,', 'ĠI', 'Ġam', 'Ġwriting', 'Ġin', 'Ġorder', 'Ġto', 'Ġexpress', 'Ġmy', 'Ġdisappointment', 'Ġabout', 'Ġyour', 'Ġmusical', 'Ġshow', 'Ġ\\\\\"', 'ĠOver', 'Ġthe', 'ĠRainbow', 'Ġ\\\\\"', 'Ġ.']\n",
            "\n",
            "Token IDs:    tensor([    0, 12191,  5348,    50,  4145,   424,  2156,    38,   524,  2410,\n",
            "           11,   645,     7,  5486,   127, 10208,    59,   110,  4388,   311,\n",
            "        48298,  2306,     5, 22060, 48298,   479,     2,     1,     1,     1,\n",
            "            1,     1,     1,     1,     1,     1,     1,     1,     1,     1,\n",
            "            1,     1,     1,     1,     1,     1,     1,     1,     1,     1,\n",
            "            1,     1,     1,     1,     1,     1,     1,     1,     1,     1,\n",
            "            1,     1,     1,     1,     1,     1,     1,     1,     1,     1,\n",
            "            1,     1,     1,     1,     1,     1,     1,     1,     1,     1,\n",
            "            1,     1,     1,     1,     1,     1,     1,     1,     1,     1,\n",
            "            1,     1,     1,     1,     1,     1,     1,     1,     1,     1,\n",
            "            1,     1,     1,     1,     1,     1,     1,     1,     1,     1,\n",
            "            1,     1,     1,     1,     1,     1,     1,     1,     1,     1,\n",
            "            1,     1,     1,     1,     1,     1,     1,     1,     1,     1,\n",
            "            1,     1,     1,     1,     1,     1,     1,     1,     1,     1,\n",
            "            1,     1,     1,     1,     1,     1,     1,     1,     1,     1,\n",
            "            1,     1,     1,     1,     1,     1,     1,     1,     1,     1,\n",
            "            1,     1,     1,     1,     1,     1,     1,     1,     1,     1,\n",
            "            1,     1,     1,     1,     1,     1,     1,     1,     1,     1,\n",
            "            1,     1,     1,     1,     1,     1,     1,     1,     1,     1,\n",
            "            1,     1,     1,     1,     1,     1,     1,     1,     1,     1,\n",
            "            1,     1,     1,     1,     1,     1,     1,     1,     1,     1,\n",
            "            1,     1,     1,     1,     1,     1,     1,     1,     1,     1,\n",
            "            1,     1,     1,     1,     1,     1,     1,     1,     1,     1,\n",
            "            1,     1,     1,     1,     1,     1,     1,     1,     1,     1,\n",
            "            1,     1,     1,     1,     1,     1,     1,     1,     1,     1,\n",
            "            1,     1,     1,     1,     1,     1])\n",
            "\n",
            "New Labels:   [-100, 1, 1, 1, 1, 1, 1, 1, 1, 1, 1, 1, 1, 1, 1, 0, 1, 1, 1, 1, 1, 1, 1, 1, 1, -100, -100, -100, -100, -100, -100, -100, -100, -100, -100, -100, -100, -100, -100, -100, -100, -100, -100, -100, -100, -100, -100, -100, -100, -100, -100, -100, -100, -100, -100, -100, -100, -100, -100, -100, -100, -100, -100, -100, -100, -100, -100, -100, -100, -100, -100, -100, -100, -100, -100, -100, -100, -100, -100, -100, -100, -100, -100, -100, -100, -100, -100, -100, -100, -100, -100, -100, -100, -100, -100, -100, -100, -100, -100, -100, -100, -100, -100, -100, -100, -100, -100, -100, -100, -100, -100, -100, -100, -100, -100, -100, -100, -100, -100, -100, -100, -100, -100, -100, -100, -100, -100, -100, -100, -100, -100, -100, -100, -100, -100, -100, -100, -100, -100, -100, -100, -100, -100, -100, -100, -100, -100, -100, -100, -100, -100, -100, -100, -100, -100, -100, -100, -100, -100, -100, -100, -100, -100, -100, -100, -100, -100, -100, -100, -100, -100, -100, -100, -100, -100, -100, -100, -100, -100, -100, -100, -100, -100, -100, -100, -100, -100, -100, -100, -100, -100, -100, -100, -100, -100, -100, -100, -100, -100, -100, -100, -100, -100, -100, -100, -100, -100, -100, -100, -100, -100, -100, -100, -100, -100, -100, -100, -100, -100, -100, -100, -100, -100, -100, -100, -100, -100, -100, -100, -100, -100, -100, -100, -100, -100, -100, -100, -100, -100, -100, -100, -100, -100, -100, -100, -100, -100, -100, -100, -100, -100, -100, -100, -100, -100]\n",
            "\n",
            "Mask:         tensor([1, 1, 1, 1, 1, 1, 1, 1, 1, 1, 1, 1, 1, 1, 1, 1, 1, 1, 1, 1, 1, 1, 1, 1,\n",
            "        1, 1, 1, 0, 0, 0, 0, 0, 0, 0, 0, 0, 0, 0, 0, 0, 0, 0, 0, 0, 0, 0, 0, 0,\n",
            "        0, 0, 0, 0, 0, 0, 0, 0, 0, 0, 0, 0, 0, 0, 0, 0, 0, 0, 0, 0, 0, 0, 0, 0,\n",
            "        0, 0, 0, 0, 0, 0, 0, 0, 0, 0, 0, 0, 0, 0, 0, 0, 0, 0, 0, 0, 0, 0, 0, 0,\n",
            "        0, 0, 0, 0, 0, 0, 0, 0, 0, 0, 0, 0, 0, 0, 0, 0, 0, 0, 0, 0, 0, 0, 0, 0,\n",
            "        0, 0, 0, 0, 0, 0, 0, 0, 0, 0, 0, 0, 0, 0, 0, 0, 0, 0, 0, 0, 0, 0, 0, 0,\n",
            "        0, 0, 0, 0, 0, 0, 0, 0, 0, 0, 0, 0, 0, 0, 0, 0, 0, 0, 0, 0, 0, 0, 0, 0,\n",
            "        0, 0, 0, 0, 0, 0, 0, 0, 0, 0, 0, 0, 0, 0, 0, 0, 0, 0, 0, 0, 0, 0, 0, 0,\n",
            "        0, 0, 0, 0, 0, 0, 0, 0, 0, 0, 0, 0, 0, 0, 0, 0, 0, 0, 0, 0, 0, 0, 0, 0,\n",
            "        0, 0, 0, 0, 0, 0, 0, 0, 0, 0, 0, 0, 0, 0, 0, 0, 0, 0, 0, 0, 0, 0, 0, 0,\n",
            "        0, 0, 0, 0, 0, 0, 0, 0, 0, 0, 0, 0, 0, 0, 0, 0])\n"
          ]
        }
      ]
    },
    {
      "cell_type": "code",
      "source": [
        "from keras.utils import pad_sequences\n",
        "\n",
        "#input_ids = pad_sequences(input_ids, maxlen= 256, dtype= \"long\", value= 0, truncating= \"post\", padding= \"post\")\n",
        "new_labels = pad_sequences(new_labels, maxlen= 256, dtype= \"long\", value= 0, truncating= \"post\", padding= \"post\")"
      ],
      "metadata": {
        "id": "y9JrI86FyChS"
      },
      "execution_count": 18,
      "outputs": []
    },
    {
      "cell_type": "code",
      "source": [
        "# Converting lists into PyTorch tensors.\n",
        "\n",
        "pt_input_ids = torch.stack(input_ids, dim=0)\n",
        "pt_attention_masks = torch.stack(attention_masks, dim=0)\n",
        "pt_labels = torch.tensor(new_labels)"
      ],
      "metadata": {
        "id": "7YNvLgbvxV60"
      },
      "execution_count": 19,
      "outputs": []
    },
    {
      "cell_type": "code",
      "source": [
        "from torch.utils.data import TensorDataset, random_split\n",
        "\n",
        "# Combine the training inputs into a TensorDataset.\n",
        "dataset = TensorDataset(pt_input_ids, pt_attention_masks, pt_labels)\n",
        "\n",
        "# Create a 90-10 train-validation split and calculating no. of samples to include in each set.\n",
        "train_size = int(0.9 * len(dataset))\n",
        "val_size = len(dataset) - train_size\n",
        "\n",
        "# Divide the dataset by randomly selecting samples.\n",
        "train_dataset, val_dataset = random_split(dataset, [train_size, val_size])\n",
        "\n",
        "print('{:>5,} training samples'.format(train_size))\n",
        "print('{:>5,} validation samples'.format(val_size))"
      ],
      "metadata": {
        "colab": {
          "base_uri": "https://localhost:8080/"
        },
        "id": "WEfP9gcvyLWa",
        "outputId": "f7d0907f-dd7e-4a13-d0cd-800a705d8966"
      },
      "execution_count": 20,
      "outputs": [
        {
          "output_type": "stream",
          "name": "stdout",
          "text": [
            "20,762 training samples\n",
            "2,307 validation samples\n"
          ]
        }
      ]
    },
    {
      "cell_type": "code",
      "source": [
        "from torch.utils.data import DataLoader, RandomSampler, SequentialSampler\n",
        "\n",
        "batch_size = 32\n",
        "\n",
        "# creating DataLoaders for our training and validation sets.\n",
        "# taking training samples in random order. \n",
        "train_dataloader = DataLoader(\n",
        "            train_dataset,  # The training samples.\n",
        "            sampler = RandomSampler(train_dataset), # Select batches randomly\n",
        "            batch_size = batch_size # Trains with this batch size.\n",
        "        )\n",
        "\n",
        "# For validation the order doesn't matter, so we'll just read them sequentially.\n",
        "validation_dataloader = DataLoader(\n",
        "            val_dataset, # The validation samples.\n",
        "            sampler = SequentialSampler(val_dataset), # Pull out batches sequentially.\n",
        "            batch_size = batch_size # Evaluate with this batch size.\n",
        "        )"
      ],
      "metadata": {
        "id": "aXpYgbFWyMsn"
      },
      "execution_count": 21,
      "outputs": []
    },
    {
      "cell_type": "code",
      "source": [],
      "metadata": {
        "id": "rUUQ4NgcyN1A"
      },
      "execution_count": 22,
      "outputs": []
    },
    {
      "cell_type": "code",
      "source": [],
      "metadata": {
        "id": "hskDd2ykhs3j"
      },
      "execution_count": 22,
      "outputs": []
    },
    {
      "cell_type": "code",
      "source": [],
      "metadata": {
        "id": "V-UcuelMZOuy"
      },
      "execution_count": 22,
      "outputs": []
    },
    {
      "cell_type": "markdown",
      "source": [
        "---"
      ],
      "metadata": {
        "id": "o3gfsgL-00YO"
      }
    },
    {
      "cell_type": "markdown",
      "source": [
        "# **4. Modelling**"
      ],
      "metadata": {
        "id": "QheUgcvQzAFH"
      }
    },
    {
      "cell_type": "code",
      "source": [
        "from transformers import RobertaForTokenClassification, AdamW, BertConfig\n",
        "\n",
        "model = RobertaForTokenClassification.from_pretrained(\n",
        "    \"MMG/roberta-base-ner-english\", # 12-layer BERT model, with an uncased vocab.\n",
        "    num_labels = len(label_map) + 1, \n",
        "    output_attentions = False, \n",
        "    output_hidden_states = False,\n",
        "    ignore_mismatched_sizes=True \n",
        ")\n",
        "\n",
        "# telling pytorch to run this model on the GPU.\n",
        "model.cuda()"
      ],
      "metadata": {
        "id": "-5Eja4gmzDcv",
        "colab": {
          "base_uri": "https://localhost:8080/",
          "height": 882,
          "referenced_widgets": [
            "f38b21ff186c4eb2840e0bb3c4c1f50a",
            "b5629ba261af45798a1d7d808a19350e",
            "a41f04a769e94df6adee90b39d7f6cf6",
            "ab68edc5cb9a4017ae4f4edc4e50f7bf",
            "4928ce0e09e54f46a613be912f5ff31c",
            "96413980fc444aa98d6ff2dd129cbe23",
            "996996955921445c8ad321216cc9d3e4",
            "db29e12c812c478ba6e144ad3a9eb4d6",
            "25cee0ccd7674d259338e326f73ab27c",
            "9fe9b297f1e4469d9e02a42dac9e20ec",
            "5cd6871b2c594168a16ec823cb50c4f6",
            "56dad9e10d9c488eb13fa246a811d970",
            "82df7973552e4334af4431be6a675e8c",
            "99b7188d336043c88d00b02831f966e6",
            "fda317737db14292979cc0558969e5f0",
            "a2f1d655fe3542e1b9ee02435a68c17f",
            "457cc48132cb43afbfbf31787ae20512",
            "d07b559a9c9e4a41b58ae11f9ccd38b6",
            "4b1e78b11f35484c8cb2b79bec470522",
            "fcc2a41377944552ad8d0c5288235673",
            "27a367ee68a5454c838e2f36d686e5f5",
            "3647ab38367e4de19db0a22af1616dbb"
          ]
        },
        "outputId": "f5cf3ee0-e447-4ba5-d62c-c8ef564df2d6"
      },
      "execution_count": 22,
      "outputs": [
        {
          "output_type": "display_data",
          "data": {
            "text/plain": [
              "Downloading (…)lve/main/config.json:   0%|          | 0.00/1.06k [00:00<?, ?B/s]"
            ],
            "application/vnd.jupyter.widget-view+json": {
              "version_major": 2,
              "version_minor": 0,
              "model_id": "f38b21ff186c4eb2840e0bb3c4c1f50a"
            }
          },
          "metadata": {}
        },
        {
          "output_type": "display_data",
          "data": {
            "text/plain": [
              "Downloading pytorch_model.bin:   0%|          | 0.00/496M [00:00<?, ?B/s]"
            ],
            "application/vnd.jupyter.widget-view+json": {
              "version_major": 2,
              "version_minor": 0,
              "model_id": "56dad9e10d9c488eb13fa246a811d970"
            }
          },
          "metadata": {}
        },
        {
          "output_type": "stream",
          "name": "stderr",
          "text": [
            "Some weights of RobertaForTokenClassification were not initialized from the model checkpoint at MMG/roberta-base-ner-english and are newly initialized because the shapes did not match:\n",
            "- classifier.weight: found shape torch.Size([9, 768]) in the checkpoint and torch.Size([3, 768]) in the model instantiated\n",
            "- classifier.bias: found shape torch.Size([9]) in the checkpoint and torch.Size([3]) in the model instantiated\n",
            "You should probably TRAIN this model on a down-stream task to be able to use it for predictions and inference.\n"
          ]
        },
        {
          "output_type": "execute_result",
          "data": {
            "text/plain": [
              "RobertaForTokenClassification(\n",
              "  (roberta): RobertaModel(\n",
              "    (embeddings): RobertaEmbeddings(\n",
              "      (word_embeddings): Embedding(50265, 768, padding_idx=1)\n",
              "      (position_embeddings): Embedding(514, 768, padding_idx=1)\n",
              "      (token_type_embeddings): Embedding(1, 768)\n",
              "      (LayerNorm): LayerNorm((768,), eps=1e-05, elementwise_affine=True)\n",
              "      (dropout): Dropout(p=0.1, inplace=False)\n",
              "    )\n",
              "    (encoder): RobertaEncoder(\n",
              "      (layer): ModuleList(\n",
              "        (0-11): 12 x RobertaLayer(\n",
              "          (attention): RobertaAttention(\n",
              "            (self): RobertaSelfAttention(\n",
              "              (query): Linear(in_features=768, out_features=768, bias=True)\n",
              "              (key): Linear(in_features=768, out_features=768, bias=True)\n",
              "              (value): Linear(in_features=768, out_features=768, bias=True)\n",
              "              (dropout): Dropout(p=0.1, inplace=False)\n",
              "            )\n",
              "            (output): RobertaSelfOutput(\n",
              "              (dense): Linear(in_features=768, out_features=768, bias=True)\n",
              "              (LayerNorm): LayerNorm((768,), eps=1e-05, elementwise_affine=True)\n",
              "              (dropout): Dropout(p=0.1, inplace=False)\n",
              "            )\n",
              "          )\n",
              "          (intermediate): RobertaIntermediate(\n",
              "            (dense): Linear(in_features=768, out_features=3072, bias=True)\n",
              "            (intermediate_act_fn): GELUActivation()\n",
              "          )\n",
              "          (output): RobertaOutput(\n",
              "            (dense): Linear(in_features=3072, out_features=768, bias=True)\n",
              "            (LayerNorm): LayerNorm((768,), eps=1e-05, elementwise_affine=True)\n",
              "            (dropout): Dropout(p=0.1, inplace=False)\n",
              "          )\n",
              "        )\n",
              "      )\n",
              "    )\n",
              "  )\n",
              "  (dropout): Dropout(p=0.1, inplace=False)\n",
              "  (classifier): Linear(in_features=768, out_features=3, bias=True)\n",
              ")"
            ]
          },
          "metadata": {},
          "execution_count": 22
        }
      ]
    },
    {
      "cell_type": "code",
      "source": [
        "# Getting all of the model's parameters\n",
        "params = list(model.named_parameters())\n",
        "\n",
        "print('The RoBERT model has {:} different named parameters.\\n'.format(len(params)))\n",
        "\n",
        "print('==== Embedding Layer ====\\n')\n",
        "\n",
        "for p in params[0:5]:\n",
        "    print(\"{:<55} {:>12}\".format(p[0], str(tuple(p[1].size()))))\n",
        "\n",
        "print('\\n==== Transformer ====\\n')\n",
        "\n",
        "for p in params[5:21]:\n",
        "    print(\"{:<55} {:>12}\".format(p[0], str(tuple(p[1].size()))))\n",
        "\n",
        "print('\\n==== Output Layer ====\\n')\n",
        "\n",
        "for p in params[-4:]:\n",
        "    print(\"{:<55} {:>12}\".format(p[0], str(tuple(p[1].size()))))"
      ],
      "metadata": {
        "colab": {
          "base_uri": "https://localhost:8080/"
        },
        "id": "P2T-5OudyRB9",
        "outputId": "29be246b-657e-4a81-d9ad-03753c8d50de"
      },
      "execution_count": 23,
      "outputs": [
        {
          "output_type": "stream",
          "name": "stdout",
          "text": [
            "The RoBERT model has 199 different named parameters.\n",
            "\n",
            "==== Embedding Layer ====\n",
            "\n",
            "roberta.embeddings.word_embeddings.weight               (50265, 768)\n",
            "roberta.embeddings.position_embeddings.weight             (514, 768)\n",
            "roberta.embeddings.token_type_embeddings.weight             (1, 768)\n",
            "roberta.embeddings.LayerNorm.weight                           (768,)\n",
            "roberta.embeddings.LayerNorm.bias                             (768,)\n",
            "\n",
            "==== Transformer ====\n",
            "\n",
            "roberta.encoder.layer.0.attention.self.query.weight       (768, 768)\n",
            "roberta.encoder.layer.0.attention.self.query.bias             (768,)\n",
            "roberta.encoder.layer.0.attention.self.key.weight         (768, 768)\n",
            "roberta.encoder.layer.0.attention.self.key.bias               (768,)\n",
            "roberta.encoder.layer.0.attention.self.value.weight       (768, 768)\n",
            "roberta.encoder.layer.0.attention.self.value.bias             (768,)\n",
            "roberta.encoder.layer.0.attention.output.dense.weight     (768, 768)\n",
            "roberta.encoder.layer.0.attention.output.dense.bias           (768,)\n",
            "roberta.encoder.layer.0.attention.output.LayerNorm.weight       (768,)\n",
            "roberta.encoder.layer.0.attention.output.LayerNorm.bias       (768,)\n",
            "roberta.encoder.layer.0.intermediate.dense.weight        (3072, 768)\n",
            "roberta.encoder.layer.0.intermediate.dense.bias              (3072,)\n",
            "roberta.encoder.layer.0.output.dense.weight              (768, 3072)\n",
            "roberta.encoder.layer.0.output.dense.bias                     (768,)\n",
            "roberta.encoder.layer.0.output.LayerNorm.weight               (768,)\n",
            "roberta.encoder.layer.0.output.LayerNorm.bias                 (768,)\n",
            "\n",
            "==== Output Layer ====\n",
            "\n",
            "roberta.encoder.layer.11.output.LayerNorm.weight              (768,)\n",
            "roberta.encoder.layer.11.output.LayerNorm.bias                (768,)\n",
            "classifier.weight                                           (3, 768)\n",
            "classifier.bias                                                 (3,)\n"
          ]
        }
      ]
    },
    {
      "cell_type": "code",
      "source": [
        "# Loading AdamW optimizer\n",
        "optimizer = AdamW(model.parameters(), lr = 5e-5, eps = 1e-8)\n"
      ],
      "metadata": {
        "colab": {
          "base_uri": "https://localhost:8080/"
        },
        "id": "bMRN8xYaympU",
        "outputId": "b88897c9-9cdb-4e74-98e9-1d27488b8165"
      },
      "execution_count": 24,
      "outputs": [
        {
          "output_type": "stream",
          "name": "stderr",
          "text": [
            "/usr/local/lib/python3.10/dist-packages/transformers/optimization.py:391: FutureWarning: This implementation of AdamW is deprecated and will be removed in a future version. Use the PyTorch implementation torch.optim.AdamW instead, or set `no_deprecation_warning=True` to disable this warning\n",
            "  warnings.warn(\n"
          ]
        }
      ]
    },
    {
      "cell_type": "code",
      "source": [
        "from transformers import get_linear_schedule_with_warmup\n",
        "\n",
        "epochs = 2\n",
        "\n",
        "# Total number of training steps\n",
        "total_steps = len(train_dataloader) * epochs\n",
        "\n",
        "# Create the learning rate scheduler.\n",
        "scheduler = get_linear_schedule_with_warmup(optimizer, \n",
        "                                            num_warmup_steps = 0,\n",
        "                                            num_training_steps = total_steps)"
      ],
      "metadata": {
        "id": "RBmNd1UhysQL"
      },
      "execution_count": 25,
      "outputs": []
    },
    {
      "cell_type": "code",
      "source": [
        "import time\n",
        "import numpy as np\n",
        "import datetime\n",
        "\n",
        "def format_time(elapsed):\n",
        "      \n",
        "    # Round to the nearest second.\n",
        "    elapsed_rounded = int(round((elapsed)))\n",
        "    \n",
        "    # Format as hh:mm:ss\n",
        "    return str(datetime.timedelta(seconds=elapsed_rounded))\n"
      ],
      "metadata": {
        "id": "xUXJFQ__ytvf"
      },
      "execution_count": 26,
      "outputs": []
    },
    {
      "cell_type": "code",
      "source": [
        "import random\n",
        "\n",
        "seed_val = 42\n",
        "\n",
        "random.seed(seed_val)\n",
        "np.random.seed(seed_val)\n",
        "torch.manual_seed(seed_val)\n",
        "torch.cuda.manual_seed_all(seed_val)\n",
        "\n",
        "# Store the average loss after each epoch so we can plot them.\n",
        "loss_values = []\n",
        "\n",
        "# For each epoch...\n",
        "for epoch_i in range(0, epochs):\n",
        "    ##############\n",
        "    ## Training ##\n",
        "    ##############\n",
        "\n",
        "    # Perform one full pass over the training set.\n",
        "\n",
        "    print()\n",
        "    print('======== Epoch {:} / {:} ========'.format(epoch_i + 1, epochs))\n",
        "\n",
        "    # Measure how long the training epoch takes.\n",
        "    t0 = time.time()\n",
        "\n",
        "    # Reset the total loss for this epoch.\n",
        "    total_loss = 0\n",
        "\n",
        "    # Put the model into training mode\n",
        "    model.train()\n",
        "\n",
        "    # For each batch of training data...\n",
        "    for step, batch in enumerate(train_dataloader):\n",
        "\n",
        "        # Progress update every 40 batches.\n",
        "        if step % 40 == 0 and not step == 0:\n",
        "            # Calculate elapsed time in minutes.\n",
        "            elapsed = format_time(time.time() - t0)\n",
        "            \n",
        "            # Report progress.\n",
        "            print('Batch {:>5,}  of  {:>5,}.    Elapsed: {:}.'.format(step, len(train_dataloader), elapsed))\n",
        "\n",
        "        # Unpack this training batch from our dataloader. also copy each tensor to the GPU using the `to` method.\n",
        "      \n",
        "        # `batch` contains three pytorch tensors\n",
        "        b_input_ids = batch[0].to(device)\n",
        "        b_input_mask = batch[1].to(device)\n",
        "        b_labels = batch[2].to(device)\n",
        "\n",
        "        # clearing any previously calculated gradients before performing a backward pass\n",
        "        model.zero_grad()        \n",
        "\n",
        "        # calling `model` will call the model's `forward` \n",
        "        result = model(b_input_ids, \n",
        "                     \n",
        "                    attention_mask=b_input_mask, \n",
        "                    labels=b_labels)\n",
        "        \n",
        "        loss = result.loss\n",
        "\n",
        "        # Accumulate the training loss over all of the batches so that we can calculate the average loss at the end.\n",
        "        total_loss += loss.item()\n",
        "\n",
        "        # Perform a backward pass to calculate the gradients.\n",
        "        loss.backward()\n",
        "\n",
        "        # Clip the norm of the gradients to 1.0 to help prevent the \"exploding gradients\" problem.\n",
        "        torch.nn.utils.clip_grad_norm_(model.parameters(), 1.0)\n",
        "\n",
        "        # Update parameters and take a step using the computed gradient.\n",
        "        optimizer.step()\n",
        "\n",
        "        # Update the learning rate.\n",
        "        scheduler.step()\n",
        "\n",
        "    # Calculate the average loss over the training data.\n",
        "    avg_train_loss = total_loss / len(train_dataloader)            \n",
        "    \n",
        "    # Store the loss value for plotting the learning curve.\n",
        "    loss_values.append(avg_train_loss)\n",
        "\n",
        "    print()\n",
        "    print(\"Average training loss: {0:.2f}\".format(avg_train_loss))\n",
        "    print(\"Training epcoh took: {:}\".format(format_time(time.time() - t0)))\n",
        "        \n",
        "\n",
        "print()\n",
        "print(\"Training complete!\")"
      ],
      "metadata": {
        "colab": {
          "base_uri": "https://localhost:8080/"
        },
        "id": "960bB5PvyvLr",
        "outputId": "c7462c0c-068d-47eb-c562-d0ab53cf9792"
      },
      "execution_count": 27,
      "outputs": [
        {
          "output_type": "stream",
          "name": "stdout",
          "text": [
            "\n",
            "======== Epoch 1 / 2 ========\n",
            "Batch    40  of    649.    Elapsed: 0:00:54.\n",
            "Batch    80  of    649.    Elapsed: 0:01:47.\n",
            "Batch   120  of    649.    Elapsed: 0:02:40.\n",
            "Batch   160  of    649.    Elapsed: 0:03:32.\n",
            "Batch   200  of    649.    Elapsed: 0:04:25.\n",
            "Batch   240  of    649.    Elapsed: 0:05:17.\n",
            "Batch   280  of    649.    Elapsed: 0:06:10.\n",
            "Batch   320  of    649.    Elapsed: 0:07:03.\n",
            "Batch   360  of    649.    Elapsed: 0:07:55.\n",
            "Batch   400  of    649.    Elapsed: 0:08:48.\n",
            "Batch   440  of    649.    Elapsed: 0:09:40.\n",
            "Batch   480  of    649.    Elapsed: 0:10:33.\n",
            "Batch   520  of    649.    Elapsed: 0:11:26.\n",
            "Batch   560  of    649.    Elapsed: 0:12:18.\n",
            "Batch   600  of    649.    Elapsed: 0:13:11.\n",
            "Batch   640  of    649.    Elapsed: 0:14:03.\n",
            "\n",
            "Average training loss: 0.24\n",
            "Training epcoh took: 0:14:15\n",
            "\n",
            "======== Epoch 2 / 2 ========\n",
            "Batch    40  of    649.    Elapsed: 0:00:53.\n",
            "Batch    80  of    649.    Elapsed: 0:01:45.\n",
            "Batch   120  of    649.    Elapsed: 0:02:38.\n",
            "Batch   160  of    649.    Elapsed: 0:03:31.\n",
            "Batch   200  of    649.    Elapsed: 0:04:23.\n",
            "Batch   240  of    649.    Elapsed: 0:05:16.\n",
            "Batch   280  of    649.    Elapsed: 0:06:08.\n",
            "Batch   320  of    649.    Elapsed: 0:07:01.\n",
            "Batch   360  of    649.    Elapsed: 0:07:54.\n",
            "Batch   400  of    649.    Elapsed: 0:08:46.\n",
            "Batch   440  of    649.    Elapsed: 0:09:39.\n",
            "Batch   480  of    649.    Elapsed: 0:10:31.\n",
            "Batch   520  of    649.    Elapsed: 0:11:24.\n",
            "Batch   560  of    649.    Elapsed: 0:12:16.\n",
            "Batch   600  of    649.    Elapsed: 0:13:09.\n",
            "Batch   640  of    649.    Elapsed: 0:14:02.\n",
            "\n",
            "Average training loss: 0.20\n",
            "Training epcoh took: 0:14:13\n",
            "\n",
            "Training complete!\n"
          ]
        }
      ]
    },
    {
      "cell_type": "code",
      "source": [
        "import matplotlib.pyplot as plt\n",
        "%matplotlib inline\n",
        "\n",
        "import seaborn as sns\n",
        "\n",
        "sns.set(style='darkgrid')\n",
        "\n",
        "# Increase the plot size and font size.\n",
        "sns.set(font_scale=1.5)\n",
        "plt.rcParams[\"figure.figsize\"] = (12,6)\n",
        "\n",
        "# Plot the learning curve.\n",
        "plt.plot(loss_values, 'b-o')\n",
        "\n",
        "# Label the plot.\n",
        "plt.title(\"Training loss\")\n",
        "plt.xlabel(\"Epoch\")\n",
        "plt.ylabel(\"Loss\")\n",
        "\n",
        "plt.show()"
      ],
      "metadata": {
        "id": "GFImUhYmyxPd",
        "colab": {
          "base_uri": "https://localhost:8080/",
          "height": 461
        },
        "outputId": "9bd71199-57f9-4d1e-da4a-7987538c7b9e"
      },
      "execution_count": 28,
      "outputs": [
        {
          "output_type": "display_data",
          "data": {
            "text/plain": [
              "<Figure size 1200x600 with 1 Axes>"
            ],
            "image/png": "[encoded data removed]"
          },
          "metadata": {}
        }
      ]
    },
    {
      "cell_type": "code",
      "source": [],
      "metadata": {
        "id": "Je9KEw8wzUPW"
      },
      "execution_count": null,
      "outputs": []
    },
    {
      "cell_type": "markdown",
      "source": [
        "---"
      ],
      "metadata": {
        "id": "T3TuoHQG01sW"
      }
    },
    {
      "cell_type": "markdown",
      "source": [
        "# **5. Evaluation**"
      ],
      "metadata": {
        "id": "ZjoKn3KrzD6s"
      }
    },
    {
      "cell_type": "code",
      "source": [
        "df = pd.read_csv(\"en_fce_dev.tsv\", delimiter='\\t', header=None, names=['token', 'label'])\n",
        "\n",
        "sentences = []\n",
        "labels = []\n",
        "unique_labels = set()\n",
        "\n",
        "\n",
        "temp_sentences = []\n",
        "temp_labels = []\n",
        "for index, row in df.iterrows():\n",
        "  if row[\"token\"] != '.':\n",
        "    temp_sentences.append(row['token'])\n",
        "    temp_labels.append(row['label'])\n",
        "    \n",
        "  else:\n",
        "    temp_sentences.append(row['token'])\n",
        "    temp_labels.append(row['label'])\n",
        "    \n",
        "    unique_labels.add(row['label'])\n",
        "    sentences.append(temp_sentences)\n",
        "    labels.append(temp_labels)\n",
        "    temp_labels = []\n",
        "    temp_sentences = []\n",
        "\n",
        "\n",
        "# Tokenize all of the sentences and map the tokens to thier word IDs.\n",
        "input_ids = []\n",
        "attention_masks = []\n",
        "\n",
        "# For every sentence...\n",
        "for sent in sentences:\n",
        "    sent_str = ' '.join(sent)\n",
        "    encoded_dict = tokenizer.encode_plus(\n",
        "                        sent_str,                  # Sentence to encode.\n",
        "                        add_special_tokens = True, # Add '[CLS]' and '[SEP]'\n",
        "                        truncation = True,\n",
        "                        max_length = 256,           # Pad & truncate all sentences.\n",
        "                        pad_to_max_length = True,\n",
        "                        return_attention_mask = True,   # Construct attn. masks.\n",
        "                        return_tensors = 'pt',     # Return pytorch tensors.\n",
        "                   )\n",
        "    \n",
        "    # Add the encoded sentence to the list.    \n",
        "    input_ids.append(encoded_dict['input_ids'][0])\n",
        "    \n",
        "    # And its attention mask (simply differentiates padding from non-padding).\n",
        "    attention_masks.append(encoded_dict['attention_mask'][0])\n",
        "\n",
        "new_labels = []\n",
        "\n",
        "null_label_id = -100\n",
        "\n",
        "for sen, orig_labels in zip(input_ids, labels):\n",
        "  padded_labels = []\n",
        "  orig_labels_i = 0\n",
        "\n",
        "  n = len(orig_labels)\n",
        "\n",
        "  for token_id in sen:\n",
        "    token_id = token_id.numpy().item()\n",
        "    if (token_id == tokenizer.pad_token_id) or (token_id == tokenizer.cls_token_id) or (token_id == tokenizer.sep_token_id):\n",
        "      padded_labels.append(null_label_id)\n",
        "    #elif tokenizer.ids_to_tokens[token_id][0:2] == \"##\":\n",
        "     # padded_labels.append(null_label_id)\n",
        "    else:\n",
        "      if orig_labels_i < n:\n",
        "        padded_labels.append(label_map[orig_labels[orig_labels_i]])\n",
        "        orig_labels_i += 1\n",
        "  \n",
        "  new_labels.append(padded_labels)\n",
        "\n",
        "from keras.utils import pad_sequences\n",
        "\n",
        "#input_ids = pad_sequences(input_ids, maxlen= 256, dtype= \"long\", value= 0, truncating= \"post\", padding= \"post\")\n",
        "new_labels = pad_sequences(new_labels, maxlen= 256, dtype= \"long\", value= 0, truncating= \"post\", padding= \"post\")\n",
        "\n",
        "# Convert the lists into PyTorch tensors.\n",
        "pt_input_ids = torch.stack(input_ids, dim=0)\n",
        "pt_attention_masks = torch.stack(attention_masks, dim=0)\n",
        "pt_labels = torch.tensor(new_labels)\n",
        "\n",
        "# Set the batch size.  \n",
        "batch_size = 32  \n",
        "\n",
        "# Create the DataLoader.\n",
        "prediction_data = TensorDataset(pt_input_ids, pt_attention_masks, pt_labels)\n",
        "prediction_sampler = SequentialSampler(prediction_data)\n",
        "prediction_dataloader = DataLoader(prediction_data, sampler=prediction_sampler, batch_size=batch_size)\n",
        "\n",
        "\n"
      ],
      "metadata": {
        "id": "VXMtyGbMzKb4",
        "colab": {
          "base_uri": "https://localhost:8080/"
        },
        "outputId": "1ea268a6-8cfb-49fe-b542-07ad5e634855"
      },
      "execution_count": 30,
      "outputs": [
        {
          "output_type": "stream",
          "name": "stderr",
          "text": [
            "/usr/local/lib/python3.10/dist-packages/transformers/tokenization_utils_base.py:2354: FutureWarning: The `pad_to_max_length` argument is deprecated and will be removed in a future version, use `padding=True` or `padding='longest'` to pad to the longest sequence in the batch, or use `padding='max_length'` to pad to a max length. In this case, you can give a specific length with `max_length` (e.g. `max_length=45`) or leave max_length to None to pad to the maximal input size of the model (e.g. 512 for Bert).\n",
            "  warnings.warn(\n"
          ]
        }
      ]
    },
    {
      "cell_type": "code",
      "source": [
        "# Prediction on test set\n",
        "\n",
        "print('Predicting labels for {:,} test sentences...'.format(len(pt_input_ids)))\n",
        "\n",
        "# Put model in evaluation mode\n",
        "model.eval()\n",
        "\n",
        "# Tracking variables \n",
        "predictions , true_labels = [], []\n",
        "\n",
        "# Predict \n",
        "for batch in prediction_dataloader:\n",
        "  # Add batch to GPU\n",
        "  batch = tuple(t.to(device) for t in batch)\n",
        "  \n",
        "  # Unpack the inputs from our dataloader\n",
        "  b_input_ids, b_input_mask, b_labels = batch\n",
        "  \n",
        "  # Telling the model not to compute or store gradients, saving memory and \n",
        "  # speeding up prediction\n",
        "  with torch.no_grad():\n",
        "      # Forward pass, calculate logit predictions\n",
        "      result = model(b_input_ids, \n",
        "                       \n",
        "                      attention_mask=b_input_mask,\n",
        "                      return_dict=True)\n",
        "\n",
        "  logits = result.logits\n",
        "\n",
        "  # Move logits and labels to CPU\n",
        "  logits = logits.detach().cpu().numpy()\n",
        "  label_ids = b_labels.to('cpu').numpy()\n",
        "  \n",
        "  # Store predictions and true labels\n",
        "  predictions.append(logits)\n",
        "  true_labels.append(label_ids)\n"
      ],
      "metadata": {
        "id": "EG4OKGHhzlSx",
        "colab": {
          "base_uri": "https://localhost:8080/"
        },
        "outputId": "8cbda56d-4648-46fc-cd97-2bb0814f3737"
      },
      "execution_count": 31,
      "outputs": [
        {
          "output_type": "stream",
          "name": "stdout",
          "text": [
            "Predicting labels for 1,768 test sentences...\n"
          ]
        }
      ]
    },
    {
      "cell_type": "code",
      "source": [
        "from sklearn.metrics import f1_score\n",
        "\n",
        "# First, combine the results across the batches.\n",
        "all_predictions = np.concatenate(predictions, axis=0)\n",
        "all_true_labels = np.concatenate(true_labels, axis=0)\n",
        "\n",
        "print(\"After flattening the batches, the predictions have shape:\")\n",
        "print(\"    \", all_predictions.shape)\n",
        "\n",
        "# Next, let's remove the third dimension (axis 2), which has the scores\n",
        "# for all 18 labels. \n",
        "\n",
        "# For each token, pick the label with the highest score.\n",
        "predicted_label_ids = np.argmax(all_predictions, axis=2)\n",
        "\n",
        "print(\"\\nAfter choosing the highest scoring label for each token:\", predicted_label_ids.shape) \n",
        "\n",
        "# Finally, for the sake of scoring, we don't actually care about the different\n",
        "# sentences--we just look at whether the model made correct predictions for the\n",
        "# individual tokens.\n",
        "\n",
        "# Eliminate axis 0, which corresponds to the sentences.\n",
        "predicted_label_ids = np.concatenate(predicted_label_ids, axis=0)\n",
        "all_true_labels = np.concatenate(all_true_labels, axis=0)\n",
        "\n",
        "print(\"\\nAfter flattening the sentences, we have predictions:\", predicted_label_ids.shape)\n",
        "print(\"\\ntrue labels: \", all_true_labels.shape)\n"
      ],
      "metadata": {
        "id": "-vz2pjz7zpW8",
        "colab": {
          "base_uri": "https://localhost:8080/"
        },
        "outputId": "ff6a78d6-8f49-4f21-f7cc-f8ba5ec63cee"
      },
      "execution_count": 32,
      "outputs": [
        {
          "output_type": "stream",
          "name": "stdout",
          "text": [
            "After flattening the batches, the predictions have shape:\n",
            "     (1768, 256, 3)\n",
            "\n",
            "After choosing the highest scoring label for each token: (1768, 256)\n",
            "\n",
            "After flattening the sentences, we have predictions: (452608,)\n",
            "\n",
            "true labels:  (452608,)\n"
          ]
        }
      ]
    },
    {
      "cell_type": "code",
      "source": [
        "# Construct new lists of predictions which don't include any null tokens.\n",
        "real_token_predictions = []\n",
        "real_token_labels = []\n",
        "\n",
        "# For each of the input tokens in the dataset...\n",
        "for i in range(len(all_true_labels)):\n",
        "\n",
        "    # If it's not a token with a null label...\n",
        "    if not all_true_labels[i] == -100:\n",
        "        \n",
        "        # Add the prediction and the ground truth to their lists.\n",
        "        real_token_predictions.append(predicted_label_ids[i])\n",
        "        real_token_labels.append(all_true_labels[i])\n",
        "\n",
        "print(\"Before filtering out `null` tokens, length = {:,}\".format(len(all_true_labels)))\n",
        "print(\"After filtering out `null` tokens, length = {:,}\".format(len(real_token_labels)))\n"
      ],
      "metadata": {
        "id": "eIlnsnUpz6MT",
        "colab": {
          "base_uri": "https://localhost:8080/"
        },
        "outputId": "038386c3-acf0-4bab-e91b-cd7384bea0b7"
      },
      "execution_count": 33,
      "outputs": [
        {
          "output_type": "stream",
          "name": "stdout",
          "text": [
            "Before filtering out `null` tokens, length = 452,608\n",
            "After filtering out `null` tokens, length = 37,273\n"
          ]
        }
      ]
    },
    {
      "cell_type": "code",
      "source": [
        "from sklearn.metrics import f1_score, precision_score, recall_score\n",
        "\n",
        "f1 = f1_score(real_token_labels, real_token_predictions) \n",
        "p = precision_score(real_token_labels, real_token_predictions) \n",
        "r = recall_score(real_token_labels, real_token_predictions) \n",
        "\n",
        "print (\"F1 score: {:.4}\".format(f1))\n",
        "print (\"Precision: {:.4}\".format(p))\n",
        "print (\"Recall: {:.4}\".format(r))"
      ],
      "metadata": {
        "id": "X6MvJTXXz9O1",
        "colab": {
          "base_uri": "https://localhost:8080/"
        },
        "outputId": "041b1bbe-bdfa-4fce-d816-baaf3acdc63f"
      },
      "execution_count": 34,
      "outputs": [
        {
          "output_type": "stream",
          "name": "stdout",
          "text": [
            "F1 score: 0.9544\n",
            "Precision: 0.923\n",
            "Recall: 0.988\n"
          ]
        }
      ]
    },
    {
      "cell_type": "markdown",
      "source": [
        "# done"
      ],
      "metadata": {
        "id": "o9PNNE8jtixN"
      }
    },
    {
      "cell_type": "code",
      "source": [],
      "metadata": {
        "id": "cVjBQBSXtlNM"
      },
      "execution_count": null,
      "outputs": []
    },
    {
      "cell_type": "code",
      "source": [
        "#saving model\n",
        "import os\n",
        "\n",
        "output_dir = './model_save/'\n",
        "\n",
        "# Create output directory if needed\n",
        "if not os.path.exists(output_dir):\n",
        "    os.makedirs(output_dir)\n",
        "\n",
        "print(\"Saving model to %s\" % output_dir)\n",
        "\n",
        "# Save a trained model, configuration and tokenizer using `save_pretrained()`.\n",
        "# They can then be reloaaded using `from_pretrained()`\n",
        "model_to_save = model.module if hasattr(model, 'module') else model  # Take care of distributed/parallel training\n",
        "model_to_save.save_pretrained(output_dir)\n",
        "tokenizer.save_pretrained(output_dir)\n",
        "\n",
        "# Good practice: save your training arguments together with the trained model\n",
        "# torch.save(args, os.path.join(output_dir, 'training_args.bin'))\n"
      ],
      "metadata": {
        "id": "chyTKhzYz-1t"
      },
      "execution_count": null,
      "outputs": []
    },
    {
      "cell_type": "code",
      "source": [],
      "metadata": {
        "id": "NrOdblbdAGM1"
      },
      "execution_count": null,
      "outputs": []
    },
    {
      "cell_type": "code",
      "source": [],
      "metadata": {
        "id": "6dTZdij9_5d-"
      },
      "execution_count": null,
      "outputs": []
    },
    {
      "cell_type": "markdown",
      "source": [
        "# **6. Deploy**"
      ],
      "metadata": {
        "id": "Qm3qaua1j7cA"
      }
    },
    {
      "cell_type": "code",
      "source": [
        "import os\n",
        "\n",
        "# Saving best-practices: if you use defaults names for the model, you can reload it using from_pretrained()\n",
        "\n",
        "output_dir = './model_save/'\n",
        "\n",
        "# Create output directory if needed\n",
        "if not os.path.exists(output_dir):\n",
        "    os.makedirs(output_dir)\n",
        "\n",
        "print(\"Saving model to %s\" % output_dir)\n",
        "\n",
        "# Save a trained model, configuration and tokenizer using `save_pretrained()`.\n",
        "# They can then be reloaded using `from_pretrained()`\n",
        "model_to_save = model.module if hasattr(model, 'module') else model  # Take care of distributed/parallel training\n",
        "model_to_save.save_pretrained(output_dir)\n",
        "tokenizer.save_pretrained(output_dir)\n",
        "\n",
        "# Good practice: save your training arguments together with the trained model\n",
        "# torch.save(args, os.path.join(output_dir, 'training_args.bin'))\n"
      ],
      "metadata": {
        "id": "oICUNxfKpsQp"
      },
      "execution_count": null,
      "outputs": []
    },
    {
      "cell_type": "code",
      "source": [
        "!pip install transformers\n",
        "\n",
        "from transformers import BertForTokenClassification\n"
      ],
      "metadata": {
        "id": "vn4BxE6TpsWo"
      },
      "execution_count": null,
      "outputs": []
    },
    {
      "cell_type": "code",
      "source": [
        "from transformers import BertTokenizer\n",
        "import torch\n",
        "# Load the BERT tokenizer.\n",
        "print('Loading BERT tokenizer...')\n",
        "tokenizer = BertTokenizer.from_pretrained(output_dir)\n",
        "model_loaded = BertForTokenClassification.from_pretrained(output_dir)"
      ],
      "metadata": {
        "id": "ys8iIt98psYM"
      },
      "execution_count": null,
      "outputs": []
    },
    {
      "cell_type": "code",
      "source": [
        "sent = input()\n",
        "encoded_dict = tokenizer.encode_plus(\n",
        "                        sent,                      # Sentence to encode.\n",
        "                        add_special_tokens = True, # Add '[CLS]' and '[SEP]'\n",
        "                        #max_length = 64,           # Pad & truncate all sentences.\n",
        "                        #pad_to_max_length = True,\n",
        "                        return_attention_mask = True,   # Construct attn. masks.\n",
        "                        return_tensors = 'pt',     # Return pytorch tensors.\n",
        "                   )\n",
        "    \n",
        "    # Add the encoded sentence to the list.    \n",
        "input_id = encoded_dict['input_ids']\n",
        "    \n",
        "    # And its attention mask (simply differentiates padding from non-padding).\n",
        "attention_mask = encoded_dict['attention_mask']\n",
        "\n",
        "input_id = torch.Tensor(input_id)\n",
        "attention_mask = torch.Tensor(attention_mask)\n",
        "\n",
        "bert_tokens = []\n",
        "for i in input_id:\n",
        "  for j in i:\n",
        "    bert_tokens.append(tokenizer.ids_to_tokens[j.item()])\n",
        "\n",
        "device = torch.device(\"cuda\" if torch.cuda.is_available() else \"cpu\")\n",
        "model_loaded = model_loaded.to(device)\n",
        "input_id = input_id.to(device)\n",
        "attention_mask = attention_mask.to(device)\n",
        "\n",
        "predictions = []\n",
        "with torch.no_grad():\n",
        "  # Forward pass, calculate logit predictions\n",
        "  outputs = model_loaded(input_id, token_type_ids=None, attention_mask=attention_mask)\n",
        "\n",
        "logits = outputs.logits\n",
        "\n",
        "# Move logits and labels to CPU\n",
        "logits = logits.detach().cpu().numpy()\n",
        "\n",
        "# Store predictions and true labels\n",
        "predictions.append(logits)\n",
        "\n",
        "all_predictions = np.concatenate(predictions, axis=0)\n",
        "predicted_label_ids = np.argmax(all_predictions, axis=2)\n",
        "predicted_label_ids = np.concatenate(predicted_label_ids, axis=0)\n",
        "\n",
        "#print(sent)\n",
        "print(bert_tokens[1:-1])\n",
        "print(predicted_label_ids[1:-1])"
      ],
      "metadata": {
        "id": "NF8pUa6ipsaB"
      },
      "execution_count": null,
      "outputs": []
    },
    {
      "cell_type": "code",
      "source": [
        "  "
      ],
      "metadata": {
        "id": "oYAKIqRixfOX"
      },
      "execution_count": null,
      "outputs": []
    },
    {
      "cell_type": "code",
      "source": [],
      "metadata": {
        "id": "LYHEDIL1w3jx"
      },
      "execution_count": null,
      "outputs": []
    },
    {
      "cell_type": "code",
      "source": [],
      "metadata": {
        "id": "M9bazo91we1L"
      },
      "execution_count": null,
      "outputs": []
    },
    {
      "cell_type": "code",
      "source": [],
      "metadata": {
        "id": "JQjQsCy-qKx0"
      },
      "execution_count": null,
      "outputs": []
    },
    {
      "cell_type": "code",
      "source": [],
      "metadata": {
        "id": "WlpXHun6qMUx"
      },
      "execution_count": null,
      "outputs": []
    },
    {
      "cell_type": "code",
      "source": [],
      "metadata": {
        "id": "pWgZC5SguPgm"
      },
      "execution_count": null,
      "outputs": []
    },
    {
      "cell_type": "code",
      "source": [],
      "metadata": {
        "id": "68K72l-VqVj7"
      },
      "execution_count": null,
      "outputs": []
    },
    {
      "cell_type": "code",
      "source": [],
      "metadata": {
        "id": "VclVIFTvpsda"
      },
      "execution_count": null,
      "outputs": []
    },
    {
      "cell_type": "code",
      "source": [],
      "metadata": {
        "id": "roYhqg_Rpsfw"
      },
      "execution_count": null,
      "outputs": []
    },
    {
      "cell_type": "code",
      "source": [],
      "metadata": {
        "id": "rdLrKE_Kpshk"
      },
      "execution_count": null,
      "outputs": []
    },
    {
      "cell_type": "code",
      "source": [],
      "metadata": {
        "id": "c17H7LWPpsjI"
      },
      "execution_count": null,
      "outputs": []
    },
    {
      "cell_type": "code",
      "source": [],
      "metadata": {
        "id": "U7YOuVfJpslO"
      },
      "execution_count": null,
      "outputs": []
    },
    {
      "cell_type": "code",
      "source": [],
      "metadata": {
        "id": "moCWM3mnpsnT"
      },
      "execution_count": null,
      "outputs": []
    },
    {
      "cell_type": "code",
      "source": [],
      "metadata": {
        "id": "aVPGTNC-pspI"
      },
      "execution_count": null,
      "outputs": []
    },
    {
      "cell_type": "code",
      "source": [],
      "metadata": {
        "id": "ht9GhNjapsq8"
      },
      "execution_count": null,
      "outputs": []
    },
    {
      "cell_type": "code",
      "source": [],
      "metadata": {
        "id": "GG0ezKEupssg"
      },
      "execution_count": null,
      "outputs": []
    },
    {
      "cell_type": "code",
      "source": [],
      "metadata": {
        "id": "Yj6PhRNspsuV"
      },
      "execution_count": null,
      "outputs": []
    },
    {
      "cell_type": "code",
      "source": [],
      "metadata": {
        "id": "0ICxXks0pCJS"
      },
      "execution_count": null,
      "outputs": []
    },
    {
      "cell_type": "code",
      "source": [],
      "metadata": {
        "id": "_nI7eIgAoDlj"
      },
      "execution_count": null,
      "outputs": []
    },
    {
      "cell_type": "code",
      "source": [],
      "metadata": {
        "id": "n4eNWO1rnwKC"
      },
      "execution_count": null,
      "outputs": []
    },
    {
      "cell_type": "code",
      "source": [],
      "metadata": {
        "id": "YcHp_X1RnCM1"
      },
      "execution_count": null,
      "outputs": []
    },
    {
      "cell_type": "code",
      "source": [],
      "metadata": {
        "id": "oPZd-jGRm06T"
      },
      "execution_count": null,
      "outputs": []
    },
    {
      "cell_type": "code",
      "source": [],
      "metadata": {
        "id": "hy3Ch3O8mvnf"
      },
      "execution_count": null,
      "outputs": []
    },
    {
      "cell_type": "code",
      "source": [],
      "metadata": {
        "id": "dAO54iRrmOJA"
      },
      "execution_count": null,
      "outputs": []
    },
    {
      "cell_type": "code",
      "source": [],
      "metadata": {
        "id": "9RY3SVxrmGNL"
      },
      "execution_count": null,
      "outputs": []
    },
    {
      "cell_type": "code",
      "source": [],
      "metadata": {
        "id": "pBMCMmKFkRE7"
      },
      "execution_count": null,
      "outputs": []
    },
    {
      "cell_type": "code",
      "source": [],
      "metadata": {
        "id": "6huRFHuI9tka"
      },
      "execution_count": null,
      "outputs": []
    },
    {
      "cell_type": "code",
      "source": [],
      "metadata": {
        "id": "TjXc5ngXYroK"
      },
      "execution_count": null,
      "outputs": []
    },
    {
      "cell_type": "code",
      "source": [],
      "metadata": {
        "id": "IcWW_3XHYrqP"
      },
      "execution_count": null,
      "outputs": []
    },
    {
      "cell_type": "code",
      "source": [],
      "metadata": {
        "id": "47VMX8Q1YryU"
      },
      "execution_count": null,
      "outputs": []
    },
    {
      "cell_type": "code",
      "source": [],
      "metadata": {
        "id": "paE4JW3FYr0q"
      },
      "execution_count": null,
      "outputs": []
    },
    {
      "cell_type": "code",
      "source": [],
      "metadata": {
        "id": "C0qTLYj9Yr19"
      },
      "execution_count": null,
      "outputs": []
    },
    {
      "cell_type": "markdown",
      "source": [
        "---"
      ],
      "metadata": {
        "id": "5Yj-Z5nP03Wm"
      }
    },
    {
      "cell_type": "markdown",
      "source": [
        "# **7. Submission**"
      ],
      "metadata": {
        "id": "LKzOJ_wz3GNV"
      }
    },
    {
      "cell_type": "code",
      "source": [
        "df = pd.read_csv(\"en_fce_test_unlabelled.tsv\", delimiter='\\t', header=None, names=['token'])"
      ],
      "metadata": {
        "id": "L1heWvGiGP4Y"
      },
      "execution_count": null,
      "outputs": []
    },
    {
      "cell_type": "code",
      "source": [],
      "metadata": {
        "id": "adAI9zYyPAK6"
      },
      "execution_count": null,
      "outputs": []
    },
    {
      "cell_type": "code",
      "source": [
        "df.head(20)"
      ],
      "metadata": {
        "id": "AJvbuGtmGQkZ"
      },
      "execution_count": null,
      "outputs": []
    },
    {
      "cell_type": "code",
      "source": [
        "df.shape"
      ],
      "metadata": {
        "id": "wsYxdLgfNZGL"
      },
      "execution_count": null,
      "outputs": []
    },
    {
      "cell_type": "code",
      "source": [],
      "metadata": {
        "id": "Di_VT1g4Na8Z"
      },
      "execution_count": null,
      "outputs": []
    },
    {
      "cell_type": "code",
      "source": [
        "sentences = []\n",
        "temp_sentences = []\n",
        "for index, row in df.iterrows():\n",
        "  if row[\"token\"] != '.':\n",
        "    temp_sentences.append(row['token'])    \n",
        "  else:\n",
        "    if row['token'] == ' ':\n",
        "      print(\"hello\")\n",
        "    temp_sentences.append(row['token'])\n",
        "    sentences.append(temp_sentences)\n",
        "    temp_sentences = []\n"
      ],
      "metadata": {
        "id": "wVotWQOdGR6V"
      },
      "execution_count": null,
      "outputs": []
    },
    {
      "cell_type": "code",
      "source": [],
      "metadata": {
        "id": "DnkkvIL_OheC"
      },
      "execution_count": null,
      "outputs": []
    },
    {
      "cell_type": "code",
      "source": [],
      "metadata": {
        "id": "BPxVsVhsOdI8"
      },
      "execution_count": null,
      "outputs": []
    },
    {
      "cell_type": "code",
      "source": [],
      "metadata": {
        "id": "6lXAYZuwOKAL"
      },
      "execution_count": null,
      "outputs": []
    },
    {
      "cell_type": "code",
      "source": [
        "# Tokenize all of the sentences and map the tokens to thier word IDs.\n",
        "input_ids = []\n",
        "attention_masks = []\n",
        "\n",
        "# For every sentence...\n",
        "for sent in sentences:\n",
        "    sent_str = ' '.join(sent)\n",
        "    encoded_dict = tokenizer.encode_plus(\n",
        "                        sent_str,                  # Sentence to encode.\n",
        "                        add_special_tokens = True, # Add '[CLS]' and '[SEP]'\n",
        "                        truncation = True,\n",
        "                        max_length = 256,           # Pad & truncate all sentences.\n",
        "                        pad_to_max_length = True,\n",
        "                        return_attention_mask = True,   # Construct attn. masks.\n",
        "                        return_tensors = 'pt',     # Return pytorch tensors.\n",
        "                   )\n",
        "    \n",
        "    # Add the encoded sentence to the list.    \n",
        "    input_ids.append(encoded_dict['input_ids'][0])\n",
        "    \n",
        "    # And its attention mask (simply differentiates padding from non-padding).\n",
        "    attention_masks.append(encoded_dict['attention_mask'][0])\n"
      ],
      "metadata": {
        "id": "_p0tAe7WGkzN"
      },
      "execution_count": null,
      "outputs": []
    },
    {
      "cell_type": "code",
      "source": [
        "# Convert the lists into PyTorch tensors.\n",
        "pt_input_ids = torch.stack(input_ids, dim=0)\n",
        "pt_attention_masks = torch.stack(attention_masks, dim=0)\n"
      ],
      "metadata": {
        "id": "5L-aYJJ5G62L"
      },
      "execution_count": null,
      "outputs": []
    },
    {
      "cell_type": "code",
      "source": [
        "\n",
        "# Set the batch size.  \n",
        "batch_size = 32  \n",
        "\n",
        "# Create the DataLoader.\n",
        "prediction_data = TensorDataset(pt_input_ids, pt_attention_masks)\n",
        "prediction_sampler = SequentialSampler(prediction_data)\n",
        "prediction_dataloader = DataLoader(prediction_data, sampler=prediction_sampler, batch_size=batch_size)\n"
      ],
      "metadata": {
        "id": "945V-ulPIr6y"
      },
      "execution_count": null,
      "outputs": []
    },
    {
      "cell_type": "code",
      "source": [
        "# Prediction on unlabelled test set\n",
        "\n",
        "print('Predicting labels for {:,} test sentences...'.format(len(pt_input_ids)))\n",
        "\n",
        "# Put model in evaluation mode\n",
        "model.eval()\n",
        "\n",
        "# Tracking variables \n",
        "predictions = []\n",
        "\n",
        "# Predict \n",
        "for batch in prediction_dataloader:\n",
        "  # Add batch to GPU\n",
        "  batch = tuple(t.to(device) for t in batch)\n",
        "  \n",
        "  # Unpack the inputs from our dataloader\n",
        "  b_input_ids, b_input_mask = batch\n",
        "  \n",
        "  # Telling the model not to compute or store gradients, saving memory and \n",
        "  # speeding up prediction\n",
        "  with torch.no_grad():\n",
        "      # Forward pass, calculate logit predictions\n",
        "      result = model(b_input_ids, \n",
        "                      token_type_ids=None, \n",
        "                      attention_mask=b_input_mask,\n",
        "                      return_dict=True)\n",
        "\n",
        "  logits = result.logits\n",
        "\n",
        "  # Move logits and labels to CPU\n",
        "  logits = logits.detach().cpu().numpy()\n",
        "\n",
        "  # Store predictions and true labels\n",
        "  predictions.append(logits)\n"
      ],
      "metadata": {
        "id": "eX_jdmLBIv8m"
      },
      "execution_count": null,
      "outputs": []
    },
    {
      "cell_type": "code",
      "source": [
        "\n",
        "# First, combine the results across the batches.\n",
        "all_predictions = np.concatenate(predictions, axis=0)\n",
        "\n",
        "print(\"After flattening the batches, the predictions have shape: \", all_predictions.shape)\n",
        "\n",
        "# Next, let's remove the third dimension (axis 2), which has the scores\n",
        "# for all 18 labels. \n",
        "\n",
        "# For each token, pick the label with the highest score.\n",
        "predicted_label_ids = np.argmax(all_predictions, axis=2)\n",
        "\n",
        "print(\"\\nAfter choosing the highest scoring label for each token:\", predicted_label_ids.shape) \n",
        "\n",
        "# Finally, for the sake of scoring, we don't actually care about the different\n",
        "# sentences--we just look at whether the model made correct predictions for the\n",
        "# individual tokens.\n",
        "\n",
        "# Eliminate axis 0, which corresponds to the sentences.\n",
        "predicted_label_ids = np.concatenate(predicted_label_ids, axis=0)\n",
        "\n",
        "print(\"\\nAfter flattening the sentences, we have predictions:\", predicted_label_ids.shape)\n"
      ],
      "metadata": {
        "id": "k2uceaMUJAP2"
      },
      "execution_count": null,
      "outputs": []
    },
    {
      "cell_type": "code",
      "source": [
        "len(predicted_label_ids)"
      ],
      "metadata": {
        "id": "x7LgoH03q_fc"
      },
      "execution_count": null,
      "outputs": []
    },
    {
      "cell_type": "code",
      "source": [
        "# Construct new lists of predictions which don't include any null tokens.\n",
        "real_token_predictions = []\n",
        "\n",
        "# For each of the input tokens in the dataset...\n",
        "for i in range(len(all_true_labels)):      \n",
        "      # Add the prediction and the ground truth to their lists.\n",
        "      real_token_predictions.append(predicted_label_ids[i])\n",
        "\n",
        "print(\"Before filtering out `null` tokens, length = {:,}\".format(len(all_true_labels)))\n"
      ],
      "metadata": {
        "id": "HgCQ4BqdJctP"
      },
      "execution_count": null,
      "outputs": []
    },
    {
      "cell_type": "code",
      "source": [
        "output_label = []\n",
        "for i in real_token_labels:\n",
        "  if i == 1:\n",
        "    output_label.append('c')\n",
        "  else:\n",
        "    output_label.append('i')\n"
      ],
      "metadata": {
        "id": "d-lV355aJ-Rd"
      },
      "execution_count": null,
      "outputs": []
    },
    {
      "cell_type": "code",
      "source": [
        "output_label[35708]"
      ],
      "metadata": {
        "id": "sWO1YPS5NB--"
      },
      "execution_count": null,
      "outputs": []
    },
    {
      "cell_type": "code",
      "source": [
        "for i in range(35709, 41932):\n",
        "  output_label.append('c')"
      ],
      "metadata": {
        "id": "uJSQvHvfP9Uz"
      },
      "execution_count": null,
      "outputs": []
    },
    {
      "cell_type": "code",
      "source": [
        "len(output_label)"
      ],
      "metadata": {
        "id": "US39MqH5QrZC"
      },
      "execution_count": null,
      "outputs": []
    },
    {
      "cell_type": "code",
      "source": [
        "df['label'] = output_label"
      ],
      "metadata": {
        "id": "IWzBqaxZQn-z"
      },
      "execution_count": null,
      "outputs": []
    },
    {
      "cell_type": "code",
      "source": [
        "df.head(50)"
      ],
      "metadata": {
        "id": "-yLFp4c7QzP6"
      },
      "execution_count": null,
      "outputs": []
    },
    {
      "cell_type": "code",
      "source": [
        "df.to_csv('en_fce_output.txt', header= False, index= False, sep=\"\\t\")"
      ],
      "metadata": {
        "id": "KAu34YtxQmMe"
      },
      "execution_count": null,
      "outputs": []
    },
    {
      "cell_type": "code",
      "source": [
        "df"
      ],
      "metadata": {
        "id": "nr2zYgUHRhTG"
      },
      "execution_count": null,
      "outputs": []
    },
    {
      "cell_type": "code",
      "source": [],
      "metadata": {
        "id": "_nDHotKJREqQ"
      },
      "execution_count": null,
      "outputs": []
    },
    {
      "cell_type": "code",
      "source": [
        "import csv\n",
        "\n",
        "with open('en_fce_unlabelled.tsv', newline='') as data:\n",
        "  print(data)"
      ],
      "metadata": {
        "id": "6m3z24sKND0b"
      },
      "execution_count": null,
      "outputs": []
    },
    {
      "cell_type": "code",
      "source": [
        "import pandas as pd\n",
        "df = pd.read_csv(\"en_fce_test_unlabelled.tsv\", skip_blank_lines=False, delimiter='\\t', header=None, names=['token'])"
      ],
      "metadata": {
        "id": "leldut39Mkxa"
      },
      "execution_count": null,
      "outputs": []
    },
    {
      "cell_type": "code",
      "source": [],
      "metadata": {
        "id": "eiXo37hjmuBA"
      },
      "execution_count": null,
      "outputs": []
    },
    {
      "cell_type": "code",
      "source": [],
      "metadata": {
        "id": "nurGd-Olmqyw"
      },
      "execution_count": null,
      "outputs": []
    },
    {
      "cell_type": "code",
      "source": [],
      "metadata": {
        "id": "DPdGu1RpmEJA"
      },
      "execution_count": null,
      "outputs": []
    },
    {
      "cell_type": "code",
      "source": [
        "df.head(50)"
      ],
      "metadata": {
        "id": "Sv6oRpxUl66H"
      },
      "execution_count": null,
      "outputs": []
    },
    {
      "cell_type": "code",
      "source": [],
      "metadata": {
        "id": "XPaBa9kvl-lR"
      },
      "execution_count": null,
      "outputs": []
    },
    {
      "cell_type": "code",
      "source": [
        "# Load a trained model and vocabulary that you have fine-tuned\n",
        "tokenizer = BertTokenizer.from_pretrained(\"./model_save/\", config=config)\n",
        "\n",
        "# Load the saved fine-tuned model\n",
        "model = BertForTokenClassification.from_pretrained(\"./model_save/\", config=config)\n",
        "\n",
        "# Copy the model to the GPU.\n",
        "model.to(device)"
      ],
      "metadata": {
        "id": "dkRMNZIGl8CP"
      },
      "execution_count": null,
      "outputs": []
    },
    {
      "cell_type": "code",
      "source": [],
      "metadata": {
        "id": "TptdyIeFP8tN"
      },
      "execution_count": null,
      "outputs": []
    },
    {
      "cell_type": "code",
      "source": [],
      "metadata": {
        "id": "DlHx5hX_P8BN"
      },
      "execution_count": null,
      "outputs": []
    },
    {
      "cell_type": "code",
      "source": [],
      "metadata": {
        "id": "IKqn-wsgK2OR"
      },
      "execution_count": null,
      "outputs": []
    },
    {
      "cell_type": "code",
      "source": [],
      "metadata": {
        "id": "-BBTiNK0P63w"
      },
      "execution_count": null,
      "outputs": []
    },
    {
      "cell_type": "code",
      "source": [],
      "metadata": {
        "id": "SsUtfwgxP664"
      },
      "execution_count": null,
      "outputs": []
    },
    {
      "cell_type": "code",
      "source": [],
      "metadata": {
        "id": "VAwEtsPmP6IG"
      },
      "execution_count": null,
      "outputs": []
    },
    {
      "cell_type": "code",
      "source": [],
      "metadata": {
        "id": "J6JDEO8SPrMG"
      },
      "execution_count": null,
      "outputs": []
    },
    {
      "cell_type": "code",
      "source": [],
      "metadata": {
        "id": "MDGd7AwNP7qB"
      },
      "execution_count": null,
      "outputs": []
    },
    {
      "cell_type": "code",
      "source": [],
      "metadata": {
        "id": "S5QTzYSnMbWA"
      },
      "execution_count": null,
      "outputs": []
    },
    {
      "cell_type": "code",
      "source": [],
      "metadata": {
        "id": "427_XpCTMW54"
      },
      "execution_count": null,
      "outputs": []
    },
    {
      "cell_type": "code",
      "source": [],
      "metadata": {
        "id": "ZmgcUXmgKbvs"
      },
      "execution_count": null,
      "outputs": []
    },
    {
      "cell_type": "code",
      "source": [],
      "metadata": {
        "id": "vI7YRaj-K-S8"
      },
      "execution_count": null,
      "outputs": []
    },
    {
      "cell_type": "code",
      "source": [],
      "metadata": {
        "id": "837VfdkVLAkQ"
      },
      "execution_count": null,
      "outputs": []
    },
    {
      "cell_type": "code",
      "source": [],
      "metadata": {
        "id": "GimVQdyGKG_j"
      },
      "execution_count": null,
      "outputs": []
    },
    {
      "cell_type": "code",
      "source": [],
      "metadata": {
        "id": "yqJAeZFNKCtU"
      },
      "execution_count": null,
      "outputs": []
    },
    {
      "cell_type": "code",
      "source": [],
      "metadata": {
        "id": "gjTGn0-VJtQH"
      },
      "execution_count": null,
      "outputs": []
    },
    {
      "cell_type": "code",
      "source": [],
      "metadata": {
        "id": "1ORE7kSB3JxN"
      },
      "execution_count": null,
      "outputs": []
    },
    {
      "cell_type": "code",
      "source": [],
      "metadata": {
        "id": "_BBICfjpzRUh"
      },
      "execution_count": null,
      "outputs": []
    },
    {
      "cell_type": "markdown",
      "source": [
        "---"
      ],
      "metadata": {
        "id": "yoWhODfa05h7"
      }
    },
    {
      "cell_type": "code",
      "source": [],
      "metadata": {
        "id": "RvdiEfNL051d"
      },
      "execution_count": null,
      "outputs": []
    }
  ]
}